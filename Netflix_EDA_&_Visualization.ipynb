{
  "nbformat": 4,
  "nbformat_minor": 0,
  "metadata": {
    "colab": {
      "provenance": [],
      "authorship_tag": "ABX9TyO33QYf93sTxY9IBtsUP9v+",
      "include_colab_link": true
    },
    "kernelspec": {
      "name": "python3",
      "display_name": "Python 3"
    },
    "language_info": {
      "name": "python"
    }
  },
  "cells": [
    {
      "cell_type": "markdown",
      "metadata": {
        "id": "view-in-github",
        "colab_type": "text"
      },
      "source": [
        "<a href=\"https://colab.research.google.com/github/MadMush/Netflix---EDA-and-Data-Visualization/blob/main/Netflix_EDA_%26_Visualization.ipynb\" target=\"_parent\"><img src=\"https://colab.research.google.com/assets/colab-badge.svg\" alt=\"Open In Colab\"/></a>"
      ]
    },
    {
      "cell_type": "markdown",
      "source": [
        "# **Importing Dataset and Libraries**"
      ],
      "metadata": {
        "id": "5GTQ1PWuF_Hu"
      }
    },
    {
      "cell_type": "code",
      "execution_count": 1,
      "metadata": {
        "id": "gbsdKvLHFUSw"
      },
      "outputs": [],
      "source": [
        "import numpy as np\n",
        "import pandas as pd\n",
        "import matplotlib.pyplot as plt\n",
        "import seaborn as sns"
      ]
    },
    {
      "cell_type": "code",
      "source": [
        "df=pd.read_csv(\"/content/netflix1.csv\")\n",
        "df"
      ],
      "metadata": {
        "colab": {
          "base_uri": "https://localhost:8080/",
          "height": 424
        },
        "id": "49mSy99aHB28",
        "outputId": "7b43eb7f-758a-4bc1-dc54-784c99f8b79d"
      },
      "execution_count": 2,
      "outputs": [
        {
          "output_type": "execute_result",
          "data": {
            "text/plain": [
              "     show_id     type                             title         director  \\\n",
              "0         s1    Movie              Dick Johnson Is Dead  Kirsten Johnson   \n",
              "1         s3  TV Show                         Ganglands  Julien Leclercq   \n",
              "2         s6  TV Show                     Midnight Mass    Mike Flanagan   \n",
              "3        s14    Movie  Confessions of an Invisible Girl    Bruno Garotti   \n",
              "4         s8    Movie                           Sankofa     Haile Gerima   \n",
              "...      ...      ...                               ...              ...   \n",
              "8785   s8797  TV Show                        Yunus Emre        Not Given   \n",
              "8786   s8798  TV Show                         Zak Storm        Not Given   \n",
              "8787   s8801  TV Show                Zindagi Gulzar Hai        Not Given   \n",
              "8788   s8784  TV Show                              Yoko        Not Given   \n",
              "8789   s8786  TV Show                               YOM        Not Given   \n",
              "\n",
              "            country  date_added  release_year rating   duration  \\\n",
              "0     United States   9/25/2021          2020  PG-13     90 min   \n",
              "1            France   9/24/2021          2021  TV-MA   1 Season   \n",
              "2     United States   9/24/2021          2021  TV-MA   1 Season   \n",
              "3            Brazil   9/22/2021          2021  TV-PG     91 min   \n",
              "4     United States   9/24/2021          1993  TV-MA    125 min   \n",
              "...             ...         ...           ...    ...        ...   \n",
              "8785         Turkey   1/17/2017          2016  TV-PG  2 Seasons   \n",
              "8786  United States   9/13/2018          2016  TV-Y7  3 Seasons   \n",
              "8787       Pakistan  12/15/2016          2012  TV-PG   1 Season   \n",
              "8788       Pakistan   6/23/2018          2016   TV-Y   1 Season   \n",
              "8789       Pakistan    6/7/2018          2016  TV-Y7   1 Season   \n",
              "\n",
              "                                              listed_in  \n",
              "0                                         Documentaries  \n",
              "1     Crime TV Shows, International TV Shows, TV Act...  \n",
              "2                    TV Dramas, TV Horror, TV Mysteries  \n",
              "3                    Children & Family Movies, Comedies  \n",
              "4      Dramas, Independent Movies, International Movies  \n",
              "...                                                 ...  \n",
              "8785                  International TV Shows, TV Dramas  \n",
              "8786                                           Kids' TV  \n",
              "8787  International TV Shows, Romantic TV Shows, TV ...  \n",
              "8788                                           Kids' TV  \n",
              "8789                                           Kids' TV  \n",
              "\n",
              "[8790 rows x 10 columns]"
            ],
            "text/html": [
              "\n",
              "  <div id=\"df-bf60ca23-cd91-4432-9018-139fa10f02ac\" class=\"colab-df-container\">\n",
              "    <div>\n",
              "<style scoped>\n",
              "    .dataframe tbody tr th:only-of-type {\n",
              "        vertical-align: middle;\n",
              "    }\n",
              "\n",
              "    .dataframe tbody tr th {\n",
              "        vertical-align: top;\n",
              "    }\n",
              "\n",
              "    .dataframe thead th {\n",
              "        text-align: right;\n",
              "    }\n",
              "</style>\n",
              "<table border=\"1\" class=\"dataframe\">\n",
              "  <thead>\n",
              "    <tr style=\"text-align: right;\">\n",
              "      <th></th>\n",
              "      <th>show_id</th>\n",
              "      <th>type</th>\n",
              "      <th>title</th>\n",
              "      <th>director</th>\n",
              "      <th>country</th>\n",
              "      <th>date_added</th>\n",
              "      <th>release_year</th>\n",
              "      <th>rating</th>\n",
              "      <th>duration</th>\n",
              "      <th>listed_in</th>\n",
              "    </tr>\n",
              "  </thead>\n",
              "  <tbody>\n",
              "    <tr>\n",
              "      <th>0</th>\n",
              "      <td>s1</td>\n",
              "      <td>Movie</td>\n",
              "      <td>Dick Johnson Is Dead</td>\n",
              "      <td>Kirsten Johnson</td>\n",
              "      <td>United States</td>\n",
              "      <td>9/25/2021</td>\n",
              "      <td>2020</td>\n",
              "      <td>PG-13</td>\n",
              "      <td>90 min</td>\n",
              "      <td>Documentaries</td>\n",
              "    </tr>\n",
              "    <tr>\n",
              "      <th>1</th>\n",
              "      <td>s3</td>\n",
              "      <td>TV Show</td>\n",
              "      <td>Ganglands</td>\n",
              "      <td>Julien Leclercq</td>\n",
              "      <td>France</td>\n",
              "      <td>9/24/2021</td>\n",
              "      <td>2021</td>\n",
              "      <td>TV-MA</td>\n",
              "      <td>1 Season</td>\n",
              "      <td>Crime TV Shows, International TV Shows, TV Act...</td>\n",
              "    </tr>\n",
              "    <tr>\n",
              "      <th>2</th>\n",
              "      <td>s6</td>\n",
              "      <td>TV Show</td>\n",
              "      <td>Midnight Mass</td>\n",
              "      <td>Mike Flanagan</td>\n",
              "      <td>United States</td>\n",
              "      <td>9/24/2021</td>\n",
              "      <td>2021</td>\n",
              "      <td>TV-MA</td>\n",
              "      <td>1 Season</td>\n",
              "      <td>TV Dramas, TV Horror, TV Mysteries</td>\n",
              "    </tr>\n",
              "    <tr>\n",
              "      <th>3</th>\n",
              "      <td>s14</td>\n",
              "      <td>Movie</td>\n",
              "      <td>Confessions of an Invisible Girl</td>\n",
              "      <td>Bruno Garotti</td>\n",
              "      <td>Brazil</td>\n",
              "      <td>9/22/2021</td>\n",
              "      <td>2021</td>\n",
              "      <td>TV-PG</td>\n",
              "      <td>91 min</td>\n",
              "      <td>Children &amp; Family Movies, Comedies</td>\n",
              "    </tr>\n",
              "    <tr>\n",
              "      <th>4</th>\n",
              "      <td>s8</td>\n",
              "      <td>Movie</td>\n",
              "      <td>Sankofa</td>\n",
              "      <td>Haile Gerima</td>\n",
              "      <td>United States</td>\n",
              "      <td>9/24/2021</td>\n",
              "      <td>1993</td>\n",
              "      <td>TV-MA</td>\n",
              "      <td>125 min</td>\n",
              "      <td>Dramas, Independent Movies, International Movies</td>\n",
              "    </tr>\n",
              "    <tr>\n",
              "      <th>...</th>\n",
              "      <td>...</td>\n",
              "      <td>...</td>\n",
              "      <td>...</td>\n",
              "      <td>...</td>\n",
              "      <td>...</td>\n",
              "      <td>...</td>\n",
              "      <td>...</td>\n",
              "      <td>...</td>\n",
              "      <td>...</td>\n",
              "      <td>...</td>\n",
              "    </tr>\n",
              "    <tr>\n",
              "      <th>8785</th>\n",
              "      <td>s8797</td>\n",
              "      <td>TV Show</td>\n",
              "      <td>Yunus Emre</td>\n",
              "      <td>Not Given</td>\n",
              "      <td>Turkey</td>\n",
              "      <td>1/17/2017</td>\n",
              "      <td>2016</td>\n",
              "      <td>TV-PG</td>\n",
              "      <td>2 Seasons</td>\n",
              "      <td>International TV Shows, TV Dramas</td>\n",
              "    </tr>\n",
              "    <tr>\n",
              "      <th>8786</th>\n",
              "      <td>s8798</td>\n",
              "      <td>TV Show</td>\n",
              "      <td>Zak Storm</td>\n",
              "      <td>Not Given</td>\n",
              "      <td>United States</td>\n",
              "      <td>9/13/2018</td>\n",
              "      <td>2016</td>\n",
              "      <td>TV-Y7</td>\n",
              "      <td>3 Seasons</td>\n",
              "      <td>Kids' TV</td>\n",
              "    </tr>\n",
              "    <tr>\n",
              "      <th>8787</th>\n",
              "      <td>s8801</td>\n",
              "      <td>TV Show</td>\n",
              "      <td>Zindagi Gulzar Hai</td>\n",
              "      <td>Not Given</td>\n",
              "      <td>Pakistan</td>\n",
              "      <td>12/15/2016</td>\n",
              "      <td>2012</td>\n",
              "      <td>TV-PG</td>\n",
              "      <td>1 Season</td>\n",
              "      <td>International TV Shows, Romantic TV Shows, TV ...</td>\n",
              "    </tr>\n",
              "    <tr>\n",
              "      <th>8788</th>\n",
              "      <td>s8784</td>\n",
              "      <td>TV Show</td>\n",
              "      <td>Yoko</td>\n",
              "      <td>Not Given</td>\n",
              "      <td>Pakistan</td>\n",
              "      <td>6/23/2018</td>\n",
              "      <td>2016</td>\n",
              "      <td>TV-Y</td>\n",
              "      <td>1 Season</td>\n",
              "      <td>Kids' TV</td>\n",
              "    </tr>\n",
              "    <tr>\n",
              "      <th>8789</th>\n",
              "      <td>s8786</td>\n",
              "      <td>TV Show</td>\n",
              "      <td>YOM</td>\n",
              "      <td>Not Given</td>\n",
              "      <td>Pakistan</td>\n",
              "      <td>6/7/2018</td>\n",
              "      <td>2016</td>\n",
              "      <td>TV-Y7</td>\n",
              "      <td>1 Season</td>\n",
              "      <td>Kids' TV</td>\n",
              "    </tr>\n",
              "  </tbody>\n",
              "</table>\n",
              "<p>8790 rows × 10 columns</p>\n",
              "</div>\n",
              "    <div class=\"colab-df-buttons\">\n",
              "\n",
              "  <div class=\"colab-df-container\">\n",
              "    <button class=\"colab-df-convert\" onclick=\"convertToInteractive('df-bf60ca23-cd91-4432-9018-139fa10f02ac')\"\n",
              "            title=\"Convert this dataframe to an interactive table.\"\n",
              "            style=\"display:none;\">\n",
              "\n",
              "  <svg xmlns=\"http://www.w3.org/2000/svg\" height=\"24px\" viewBox=\"0 -960 960 960\">\n",
              "    <path d=\"M120-120v-720h720v720H120Zm60-500h600v-160H180v160Zm220 220h160v-160H400v160Zm0 220h160v-160H400v160ZM180-400h160v-160H180v160Zm440 0h160v-160H620v160ZM180-180h160v-160H180v160Zm440 0h160v-160H620v160Z\"/>\n",
              "  </svg>\n",
              "    </button>\n",
              "\n",
              "  <style>\n",
              "    .colab-df-container {\n",
              "      display:flex;\n",
              "      gap: 12px;\n",
              "    }\n",
              "\n",
              "    .colab-df-convert {\n",
              "      background-color: #E8F0FE;\n",
              "      border: none;\n",
              "      border-radius: 50%;\n",
              "      cursor: pointer;\n",
              "      display: none;\n",
              "      fill: #1967D2;\n",
              "      height: 32px;\n",
              "      padding: 0 0 0 0;\n",
              "      width: 32px;\n",
              "    }\n",
              "\n",
              "    .colab-df-convert:hover {\n",
              "      background-color: #E2EBFA;\n",
              "      box-shadow: 0px 1px 2px rgba(60, 64, 67, 0.3), 0px 1px 3px 1px rgba(60, 64, 67, 0.15);\n",
              "      fill: #174EA6;\n",
              "    }\n",
              "\n",
              "    .colab-df-buttons div {\n",
              "      margin-bottom: 4px;\n",
              "    }\n",
              "\n",
              "    [theme=dark] .colab-df-convert {\n",
              "      background-color: #3B4455;\n",
              "      fill: #D2E3FC;\n",
              "    }\n",
              "\n",
              "    [theme=dark] .colab-df-convert:hover {\n",
              "      background-color: #434B5C;\n",
              "      box-shadow: 0px 1px 3px 1px rgba(0, 0, 0, 0.15);\n",
              "      filter: drop-shadow(0px 1px 2px rgba(0, 0, 0, 0.3));\n",
              "      fill: #FFFFFF;\n",
              "    }\n",
              "  </style>\n",
              "\n",
              "    <script>\n",
              "      const buttonEl =\n",
              "        document.querySelector('#df-bf60ca23-cd91-4432-9018-139fa10f02ac button.colab-df-convert');\n",
              "      buttonEl.style.display =\n",
              "        google.colab.kernel.accessAllowed ? 'block' : 'none';\n",
              "\n",
              "      async function convertToInteractive(key) {\n",
              "        const element = document.querySelector('#df-bf60ca23-cd91-4432-9018-139fa10f02ac');\n",
              "        const dataTable =\n",
              "          await google.colab.kernel.invokeFunction('convertToInteractive',\n",
              "                                                    [key], {});\n",
              "        if (!dataTable) return;\n",
              "\n",
              "        const docLinkHtml = 'Like what you see? Visit the ' +\n",
              "          '<a target=\"_blank\" href=https://colab.research.google.com/notebooks/data_table.ipynb>data table notebook</a>'\n",
              "          + ' to learn more about interactive tables.';\n",
              "        element.innerHTML = '';\n",
              "        dataTable['output_type'] = 'display_data';\n",
              "        await google.colab.output.renderOutput(dataTable, element);\n",
              "        const docLink = document.createElement('div');\n",
              "        docLink.innerHTML = docLinkHtml;\n",
              "        element.appendChild(docLink);\n",
              "      }\n",
              "    </script>\n",
              "  </div>\n",
              "\n",
              "\n",
              "<div id=\"df-833ddcb8-e81e-4b8a-ad13-4be6dae6778f\">\n",
              "  <button class=\"colab-df-quickchart\" onclick=\"quickchart('df-833ddcb8-e81e-4b8a-ad13-4be6dae6778f')\"\n",
              "            title=\"Suggest charts\"\n",
              "            style=\"display:none;\">\n",
              "\n",
              "<svg xmlns=\"http://www.w3.org/2000/svg\" height=\"24px\"viewBox=\"0 0 24 24\"\n",
              "     width=\"24px\">\n",
              "    <g>\n",
              "        <path d=\"M19 3H5c-1.1 0-2 .9-2 2v14c0 1.1.9 2 2 2h14c1.1 0 2-.9 2-2V5c0-1.1-.9-2-2-2zM9 17H7v-7h2v7zm4 0h-2V7h2v10zm4 0h-2v-4h2v4z\"/>\n",
              "    </g>\n",
              "</svg>\n",
              "  </button>\n",
              "\n",
              "<style>\n",
              "  .colab-df-quickchart {\n",
              "      --bg-color: #E8F0FE;\n",
              "      --fill-color: #1967D2;\n",
              "      --hover-bg-color: #E2EBFA;\n",
              "      --hover-fill-color: #174EA6;\n",
              "      --disabled-fill-color: #AAA;\n",
              "      --disabled-bg-color: #DDD;\n",
              "  }\n",
              "\n",
              "  [theme=dark] .colab-df-quickchart {\n",
              "      --bg-color: #3B4455;\n",
              "      --fill-color: #D2E3FC;\n",
              "      --hover-bg-color: #434B5C;\n",
              "      --hover-fill-color: #FFFFFF;\n",
              "      --disabled-bg-color: #3B4455;\n",
              "      --disabled-fill-color: #666;\n",
              "  }\n",
              "\n",
              "  .colab-df-quickchart {\n",
              "    background-color: var(--bg-color);\n",
              "    border: none;\n",
              "    border-radius: 50%;\n",
              "    cursor: pointer;\n",
              "    display: none;\n",
              "    fill: var(--fill-color);\n",
              "    height: 32px;\n",
              "    padding: 0;\n",
              "    width: 32px;\n",
              "  }\n",
              "\n",
              "  .colab-df-quickchart:hover {\n",
              "    background-color: var(--hover-bg-color);\n",
              "    box-shadow: 0 1px 2px rgba(60, 64, 67, 0.3), 0 1px 3px 1px rgba(60, 64, 67, 0.15);\n",
              "    fill: var(--button-hover-fill-color);\n",
              "  }\n",
              "\n",
              "  .colab-df-quickchart-complete:disabled,\n",
              "  .colab-df-quickchart-complete:disabled:hover {\n",
              "    background-color: var(--disabled-bg-color);\n",
              "    fill: var(--disabled-fill-color);\n",
              "    box-shadow: none;\n",
              "  }\n",
              "\n",
              "  .colab-df-spinner {\n",
              "    border: 2px solid var(--fill-color);\n",
              "    border-color: transparent;\n",
              "    border-bottom-color: var(--fill-color);\n",
              "    animation:\n",
              "      spin 1s steps(1) infinite;\n",
              "  }\n",
              "\n",
              "  @keyframes spin {\n",
              "    0% {\n",
              "      border-color: transparent;\n",
              "      border-bottom-color: var(--fill-color);\n",
              "      border-left-color: var(--fill-color);\n",
              "    }\n",
              "    20% {\n",
              "      border-color: transparent;\n",
              "      border-left-color: var(--fill-color);\n",
              "      border-top-color: var(--fill-color);\n",
              "    }\n",
              "    30% {\n",
              "      border-color: transparent;\n",
              "      border-left-color: var(--fill-color);\n",
              "      border-top-color: var(--fill-color);\n",
              "      border-right-color: var(--fill-color);\n",
              "    }\n",
              "    40% {\n",
              "      border-color: transparent;\n",
              "      border-right-color: var(--fill-color);\n",
              "      border-top-color: var(--fill-color);\n",
              "    }\n",
              "    60% {\n",
              "      border-color: transparent;\n",
              "      border-right-color: var(--fill-color);\n",
              "    }\n",
              "    80% {\n",
              "      border-color: transparent;\n",
              "      border-right-color: var(--fill-color);\n",
              "      border-bottom-color: var(--fill-color);\n",
              "    }\n",
              "    90% {\n",
              "      border-color: transparent;\n",
              "      border-bottom-color: var(--fill-color);\n",
              "    }\n",
              "  }\n",
              "</style>\n",
              "\n",
              "  <script>\n",
              "    async function quickchart(key) {\n",
              "      const quickchartButtonEl =\n",
              "        document.querySelector('#' + key + ' button');\n",
              "      quickchartButtonEl.disabled = true;  // To prevent multiple clicks.\n",
              "      quickchartButtonEl.classList.add('colab-df-spinner');\n",
              "      try {\n",
              "        const charts = await google.colab.kernel.invokeFunction(\n",
              "            'suggestCharts', [key], {});\n",
              "      } catch (error) {\n",
              "        console.error('Error during call to suggestCharts:', error);\n",
              "      }\n",
              "      quickchartButtonEl.classList.remove('colab-df-spinner');\n",
              "      quickchartButtonEl.classList.add('colab-df-quickchart-complete');\n",
              "    }\n",
              "    (() => {\n",
              "      let quickchartButtonEl =\n",
              "        document.querySelector('#df-833ddcb8-e81e-4b8a-ad13-4be6dae6778f button');\n",
              "      quickchartButtonEl.style.display =\n",
              "        google.colab.kernel.accessAllowed ? 'block' : 'none';\n",
              "    })();\n",
              "  </script>\n",
              "</div>\n",
              "    </div>\n",
              "  </div>\n"
            ]
          },
          "metadata": {},
          "execution_count": 2
        }
      ]
    },
    {
      "cell_type": "markdown",
      "source": [
        "# **Dataset Info**"
      ],
      "metadata": {
        "id": "2gNg8_SgHI7-"
      }
    },
    {
      "cell_type": "code",
      "source": [
        "df.shape"
      ],
      "metadata": {
        "colab": {
          "base_uri": "https://localhost:8080/"
        },
        "id": "7ZBO_EGKHLvv",
        "outputId": "b5012c14-3411-435c-d560-9d17793eb4b9"
      },
      "execution_count": 3,
      "outputs": [
        {
          "output_type": "execute_result",
          "data": {
            "text/plain": [
              "(8790, 10)"
            ]
          },
          "metadata": {},
          "execution_count": 3
        }
      ]
    },
    {
      "cell_type": "code",
      "source": [
        "df.dtypes"
      ],
      "metadata": {
        "colab": {
          "base_uri": "https://localhost:8080/"
        },
        "id": "Ybld5AJvHNYo",
        "outputId": "dc0505ae-2601-4dea-8d0c-5cc534d15056"
      },
      "execution_count": 4,
      "outputs": [
        {
          "output_type": "execute_result",
          "data": {
            "text/plain": [
              "show_id         object\n",
              "type            object\n",
              "title           object\n",
              "director        object\n",
              "country         object\n",
              "date_added      object\n",
              "release_year     int64\n",
              "rating          object\n",
              "duration        object\n",
              "listed_in       object\n",
              "dtype: object"
            ]
          },
          "metadata": {},
          "execution_count": 4
        }
      ]
    },
    {
      "cell_type": "code",
      "source": [
        "df.info()"
      ],
      "metadata": {
        "colab": {
          "base_uri": "https://localhost:8080/"
        },
        "id": "MSksR_DIHRVZ",
        "outputId": "13e64b1c-a3c4-43e3-e75e-4f35a11c51ab"
      },
      "execution_count": 5,
      "outputs": [
        {
          "output_type": "stream",
          "name": "stdout",
          "text": [
            "<class 'pandas.core.frame.DataFrame'>\n",
            "RangeIndex: 8790 entries, 0 to 8789\n",
            "Data columns (total 10 columns):\n",
            " #   Column        Non-Null Count  Dtype \n",
            "---  ------        --------------  ----- \n",
            " 0   show_id       8790 non-null   object\n",
            " 1   type          8790 non-null   object\n",
            " 2   title         8790 non-null   object\n",
            " 3   director      8790 non-null   object\n",
            " 4   country       8790 non-null   object\n",
            " 5   date_added    8790 non-null   object\n",
            " 6   release_year  8790 non-null   int64 \n",
            " 7   rating        8790 non-null   object\n",
            " 8   duration      8790 non-null   object\n",
            " 9   listed_in     8790 non-null   object\n",
            "dtypes: int64(1), object(9)\n",
            "memory usage: 686.8+ KB\n"
          ]
        }
      ]
    },
    {
      "cell_type": "code",
      "source": [
        "df.isna().sum()"
      ],
      "metadata": {
        "colab": {
          "base_uri": "https://localhost:8080/"
        },
        "id": "dkURs8VgHTjC",
        "outputId": "1ef39ba1-1927-46a9-e6d9-0deb73f0a4c3"
      },
      "execution_count": 6,
      "outputs": [
        {
          "output_type": "execute_result",
          "data": {
            "text/plain": [
              "show_id         0\n",
              "type            0\n",
              "title           0\n",
              "director        0\n",
              "country         0\n",
              "date_added      0\n",
              "release_year    0\n",
              "rating          0\n",
              "duration        0\n",
              "listed_in       0\n",
              "dtype: int64"
            ]
          },
          "metadata": {},
          "execution_count": 6
        }
      ]
    },
    {
      "cell_type": "code",
      "source": [
        "df.duplicated().sum()"
      ],
      "metadata": {
        "colab": {
          "base_uri": "https://localhost:8080/"
        },
        "id": "roQgHJyeHWNb",
        "outputId": "68d16b2e-eb40-4995-93f3-819c761a0fe1"
      },
      "execution_count": 7,
      "outputs": [
        {
          "output_type": "execute_result",
          "data": {
            "text/plain": [
              "0"
            ]
          },
          "metadata": {},
          "execution_count": 7
        }
      ]
    },
    {
      "cell_type": "code",
      "source": [
        "df.columns"
      ],
      "metadata": {
        "colab": {
          "base_uri": "https://localhost:8080/"
        },
        "id": "3dmX7XJuHYz8",
        "outputId": "d9188472-7c34-4d62-ebee-0e6068b2f439"
      },
      "execution_count": 8,
      "outputs": [
        {
          "output_type": "execute_result",
          "data": {
            "text/plain": [
              "Index(['show_id', 'type', 'title', 'director', 'country', 'date_added',\n",
              "       'release_year', 'rating', 'duration', 'listed_in'],\n",
              "      dtype='object')"
            ]
          },
          "metadata": {},
          "execution_count": 8
        }
      ]
    },
    {
      "cell_type": "code",
      "source": [
        "df['country'].value_counts()"
      ],
      "metadata": {
        "colab": {
          "base_uri": "https://localhost:8080/"
        },
        "id": "10tvQwV9RKz1",
        "outputId": "c75c9d7d-d9e9-46a0-cd30-946a368730ce"
      },
      "execution_count": 9,
      "outputs": [
        {
          "output_type": "execute_result",
          "data": {
            "text/plain": [
              "United States     3240\n",
              "India             1057\n",
              "United Kingdom     638\n",
              "Pakistan           421\n",
              "Not Given          287\n",
              "                  ... \n",
              "Iran                 1\n",
              "West Germany         1\n",
              "Greece               1\n",
              "Zimbabwe             1\n",
              "Soviet Union         1\n",
              "Name: country, Length: 86, dtype: int64"
            ]
          },
          "metadata": {},
          "execution_count": 9
        }
      ]
    },
    {
      "cell_type": "code",
      "source": [
        "df['type'].value_counts()"
      ],
      "metadata": {
        "colab": {
          "base_uri": "https://localhost:8080/"
        },
        "id": "X-1uJdJRRXeT",
        "outputId": "e3b2d877-71d7-4e1c-e4bb-a4084d8d555d"
      },
      "execution_count": 10,
      "outputs": [
        {
          "output_type": "execute_result",
          "data": {
            "text/plain": [
              "Movie      6126\n",
              "TV Show    2664\n",
              "Name: type, dtype: int64"
            ]
          },
          "metadata": {},
          "execution_count": 10
        }
      ]
    },
    {
      "cell_type": "code",
      "source": [
        "df['release_year'].value_counts()"
      ],
      "metadata": {
        "colab": {
          "base_uri": "https://localhost:8080/"
        },
        "id": "hviVpe3QRaI7",
        "outputId": "f7c60f55-88ac-45a4-fb2a-6deb26b51c8c"
      },
      "execution_count": 11,
      "outputs": [
        {
          "output_type": "execute_result",
          "data": {
            "text/plain": [
              "2018    1146\n",
              "2017    1030\n",
              "2019    1030\n",
              "2020     953\n",
              "2016     901\n",
              "        ... \n",
              "1966       1\n",
              "1959       1\n",
              "1925       1\n",
              "1947       1\n",
              "1961       1\n",
              "Name: release_year, Length: 74, dtype: int64"
            ]
          },
          "metadata": {},
          "execution_count": 11
        }
      ]
    },
    {
      "cell_type": "code",
      "source": [
        "df['listed_in'].value_counts()"
      ],
      "metadata": {
        "colab": {
          "base_uri": "https://localhost:8080/"
        },
        "id": "mGKJNZHvRgcF",
        "outputId": "0186b7c4-f11d-4e61-cf96-00cde0f1d1f1"
      },
      "execution_count": 12,
      "outputs": [
        {
          "output_type": "execute_result",
          "data": {
            "text/plain": [
              "Dramas, International Movies                                362\n",
              "Documentaries                                               359\n",
              "Stand-Up Comedy                                             334\n",
              "Comedies, Dramas, International Movies                      274\n",
              "Dramas, Independent Movies, International Movies            252\n",
              "                                                           ... \n",
              "Anime Features                                                1\n",
              "Action & Adventure, Horror Movies, Independent Movies         1\n",
              "Action & Adventure, Classic Movies, International Movies      1\n",
              "Cult Movies, Independent Movies, Thrillers                    1\n",
              "Classic & Cult TV, Crime TV Shows, TV Dramas                  1\n",
              "Name: listed_in, Length: 513, dtype: int64"
            ]
          },
          "metadata": {},
          "execution_count": 12
        }
      ]
    },
    {
      "cell_type": "code",
      "source": [
        "np.unique(df['listed_in'])"
      ],
      "metadata": {
        "id": "aetpZwpMRl_g",
        "colab": {
          "base_uri": "https://localhost:8080/"
        },
        "outputId": "ab531f44-ffc7-4e71-914d-12ac7df8bee6"
      },
      "execution_count": 13,
      "outputs": [
        {
          "output_type": "execute_result",
          "data": {
            "text/plain": [
              "array(['Action & Adventure', 'Action & Adventure, Anime Features',\n",
              "       'Action & Adventure, Anime Features, Children & Family Movies',\n",
              "       'Action & Adventure, Anime Features, Classic Movies',\n",
              "       'Action & Adventure, Anime Features, Horror Movies',\n",
              "       'Action & Adventure, Anime Features, International Movies',\n",
              "       'Action & Adventure, Anime Features, Sci-Fi & Fantasy',\n",
              "       'Action & Adventure, Children & Family Movies',\n",
              "       'Action & Adventure, Children & Family Movies, Classic Movies',\n",
              "       'Action & Adventure, Children & Family Movies, Comedies',\n",
              "       'Action & Adventure, Children & Family Movies, Cult Movies',\n",
              "       'Action & Adventure, Children & Family Movies, Dramas',\n",
              "       'Action & Adventure, Children & Family Movies, Independent Movies',\n",
              "       'Action & Adventure, Children & Family Movies, Sci-Fi & Fantasy',\n",
              "       'Action & Adventure, Classic Movies',\n",
              "       'Action & Adventure, Classic Movies, Comedies',\n",
              "       'Action & Adventure, Classic Movies, Cult Movies',\n",
              "       'Action & Adventure, Classic Movies, Dramas',\n",
              "       'Action & Adventure, Classic Movies, International Movies',\n",
              "       'Action & Adventure, Classic Movies, Sci-Fi & Fantasy',\n",
              "       'Action & Adventure, Comedies',\n",
              "       'Action & Adventure, Comedies, Cult Movies',\n",
              "       'Action & Adventure, Comedies, Dramas',\n",
              "       'Action & Adventure, Comedies, Horror Movies',\n",
              "       'Action & Adventure, Comedies, Independent Movies',\n",
              "       'Action & Adventure, Comedies, International Movies',\n",
              "       'Action & Adventure, Comedies, Music & Musicals',\n",
              "       'Action & Adventure, Comedies, Romantic Movies',\n",
              "       'Action & Adventure, Comedies, Sci-Fi & Fantasy',\n",
              "       'Action & Adventure, Comedies, Sports Movies',\n",
              "       'Action & Adventure, Cult Movies',\n",
              "       'Action & Adventure, Cult Movies, Dramas',\n",
              "       'Action & Adventure, Cult Movies, International Movies',\n",
              "       'Action & Adventure, Cult Movies, Sci-Fi & Fantasy',\n",
              "       'Action & Adventure, Documentaries, International Movies',\n",
              "       'Action & Adventure, Documentaries, Sports Movies',\n",
              "       'Action & Adventure, Dramas',\n",
              "       'Action & Adventure, Dramas, Faith & Spirituality',\n",
              "       'Action & Adventure, Dramas, Independent Movies',\n",
              "       'Action & Adventure, Dramas, International Movies',\n",
              "       'Action & Adventure, Dramas, Romantic Movies',\n",
              "       'Action & Adventure, Dramas, Sci-Fi & Fantasy',\n",
              "       'Action & Adventure, Dramas, Sports Movies',\n",
              "       'Action & Adventure, Faith & Spirituality, Sci-Fi & Fantasy',\n",
              "       'Action & Adventure, Horror Movies',\n",
              "       'Action & Adventure, Horror Movies, Independent Movies',\n",
              "       'Action & Adventure, Horror Movies, International Movies',\n",
              "       'Action & Adventure, Horror Movies, Sci-Fi & Fantasy',\n",
              "       'Action & Adventure, Horror Movies, Thrillers',\n",
              "       'Action & Adventure, Independent Movies',\n",
              "       'Action & Adventure, Independent Movies, International Movies',\n",
              "       'Action & Adventure, Independent Movies, Sci-Fi & Fantasy',\n",
              "       'Action & Adventure, International Movies',\n",
              "       'Action & Adventure, International Movies, Music & Musicals',\n",
              "       'Action & Adventure, International Movies, Romantic Movies',\n",
              "       'Action & Adventure, International Movies, Sci-Fi & Fantasy',\n",
              "       'Action & Adventure, International Movies, Sports Movies',\n",
              "       'Action & Adventure, International Movies, Thrillers',\n",
              "       'Action & Adventure, Romantic Movies',\n",
              "       'Action & Adventure, Romantic Movies, Sci-Fi & Fantasy',\n",
              "       'Action & Adventure, Sci-Fi & Fantasy',\n",
              "       'Action & Adventure, Sci-Fi & Fantasy, Sports Movies',\n",
              "       'Action & Adventure, Sci-Fi & Fantasy, Thrillers',\n",
              "       'Action & Adventure, Sports Movies',\n",
              "       'Action & Adventure, Thrillers', 'Anime Features',\n",
              "       'Anime Features, Children & Family Movies',\n",
              "       'Anime Features, Children & Family Movies, International Movies',\n",
              "       'Anime Features, Documentaries',\n",
              "       'Anime Features, International Movies',\n",
              "       'Anime Features, International Movies, Romantic Movies',\n",
              "       'Anime Features, International Movies, Sci-Fi & Fantasy',\n",
              "       'Anime Features, Music & Musicals',\n",
              "       'Anime Features, Music & Musicals, Sci-Fi & Fantasy',\n",
              "       'Anime Features, Romantic Movies', 'Anime Series',\n",
              "       'Anime Series, Crime TV Shows',\n",
              "       'Anime Series, Crime TV Shows, International TV Shows',\n",
              "       'Anime Series, Crime TV Shows, TV Horror',\n",
              "       'Anime Series, Crime TV Shows, TV Thrillers',\n",
              "       'Anime Series, International TV Shows',\n",
              "       'Anime Series, International TV Shows, Romantic TV Shows',\n",
              "       'Anime Series, International TV Shows, Spanish-Language TV Shows',\n",
              "       'Anime Series, International TV Shows, TV Horror',\n",
              "       'Anime Series, International TV Shows, TV Thrillers',\n",
              "       'Anime Series, International TV Shows, Teen TV Shows',\n",
              "       \"Anime Series, Kids' TV\",\n",
              "       \"Anime Series, Kids' TV, TV Action & Adventure\",\n",
              "       'Anime Series, Romantic TV Shows',\n",
              "       'Anime Series, Romantic TV Shows, Teen TV Shows',\n",
              "       'Anime Series, Stand-Up Comedy & Talk Shows',\n",
              "       'Anime Series, TV Horror, TV Thrillers',\n",
              "       'Anime Series, Teen TV Shows',\n",
              "       'British TV Shows, Classic & Cult TV, International TV Shows',\n",
              "       \"British TV Shows, Classic & Cult TV, Kids' TV\",\n",
              "       'British TV Shows, Classic & Cult TV, TV Comedies',\n",
              "       'British TV Shows, Crime TV Shows, Docuseries',\n",
              "       'British TV Shows, Crime TV Shows, International TV Shows',\n",
              "       'British TV Shows, Crime TV Shows, TV Dramas',\n",
              "       'British TV Shows, Docuseries',\n",
              "       'British TV Shows, Docuseries, International TV Shows',\n",
              "       'British TV Shows, Docuseries, Reality TV',\n",
              "       'British TV Shows, Docuseries, Science & Nature TV',\n",
              "       'British TV Shows, Docuseries, TV Comedies',\n",
              "       'British TV Shows, International TV Shows, Reality TV',\n",
              "       'British TV Shows, International TV Shows, Romantic TV Shows',\n",
              "       'British TV Shows, International TV Shows, Stand-Up Comedy & Talk Shows',\n",
              "       'British TV Shows, International TV Shows, TV Action & Adventure',\n",
              "       'British TV Shows, International TV Shows, TV Comedies',\n",
              "       'British TV Shows, International TV Shows, TV Dramas',\n",
              "       \"British TV Shows, Kids' TV\",\n",
              "       \"British TV Shows, Kids' TV, TV Comedies\",\n",
              "       \"British TV Shows, Kids' TV, TV Dramas\",\n",
              "       \"British TV Shows, Kids' TV, TV Thrillers\",\n",
              "       'British TV Shows, Reality TV',\n",
              "       'British TV Shows, Reality TV, Romantic TV Shows',\n",
              "       'British TV Shows, Romantic TV Shows, TV Dramas',\n",
              "       'British TV Shows, TV Comedies',\n",
              "       'British TV Shows, TV Dramas, TV Sci-Fi & Fantasy',\n",
              "       'British TV Shows, TV Horror, TV Thrillers',\n",
              "       'Children & Family Movies',\n",
              "       'Children & Family Movies, Classic Movies',\n",
              "       'Children & Family Movies, Classic Movies, Comedies',\n",
              "       'Children & Family Movies, Classic Movies, Dramas',\n",
              "       'Children & Family Movies, Comedies',\n",
              "       'Children & Family Movies, Comedies, Cult Movies',\n",
              "       'Children & Family Movies, Comedies, Dramas',\n",
              "       'Children & Family Movies, Comedies, Faith & Spirituality',\n",
              "       'Children & Family Movies, Comedies, International Movies',\n",
              "       'Children & Family Movies, Comedies, LGBTQ Movies',\n",
              "       'Children & Family Movies, Comedies, Music & Musicals',\n",
              "       'Children & Family Movies, Comedies, Romantic Movies',\n",
              "       'Children & Family Movies, Comedies, Sci-Fi & Fantasy',\n",
              "       'Children & Family Movies, Comedies, Sports Movies',\n",
              "       'Children & Family Movies, Documentaries',\n",
              "       'Children & Family Movies, Documentaries, International Movies',\n",
              "       'Children & Family Movies, Documentaries, Sports Movies',\n",
              "       'Children & Family Movies, Dramas',\n",
              "       'Children & Family Movies, Dramas, Faith & Spirituality',\n",
              "       'Children & Family Movies, Dramas, Independent Movies',\n",
              "       'Children & Family Movies, Dramas, International Movies',\n",
              "       'Children & Family Movies, Dramas, Music & Musicals',\n",
              "       'Children & Family Movies, Dramas, Romantic Movies',\n",
              "       'Children & Family Movies, Dramas, Sports Movies',\n",
              "       'Children & Family Movies, Faith & Spirituality',\n",
              "       'Children & Family Movies, Faith & Spirituality, Music & Musicals',\n",
              "       'Children & Family Movies, Independent Movies',\n",
              "       'Children & Family Movies, Music & Musicals',\n",
              "       'Children & Family Movies, Sci-Fi & Fantasy',\n",
              "       'Children & Family Movies, Sports Movies',\n",
              "       'Classic & Cult TV, Crime TV Shows, International TV Shows',\n",
              "       'Classic & Cult TV, Crime TV Shows, TV Dramas',\n",
              "       \"Classic & Cult TV, Kids' TV, Spanish-Language TV Shows\",\n",
              "       \"Classic & Cult TV, Kids' TV, TV Action & Adventure\",\n",
              "       \"Classic & Cult TV, Kids' TV, TV Comedies\",\n",
              "       'Classic & Cult TV, TV Action & Adventure, TV Dramas',\n",
              "       'Classic & Cult TV, TV Action & Adventure, TV Horror',\n",
              "       'Classic & Cult TV, TV Action & Adventure, TV Sci-Fi & Fantasy',\n",
              "       'Classic & Cult TV, TV Comedies',\n",
              "       'Classic & Cult TV, TV Dramas, TV Sci-Fi & Fantasy',\n",
              "       'Classic & Cult TV, TV Horror, TV Mysteries',\n",
              "       'Classic & Cult TV, TV Sci-Fi & Fantasy',\n",
              "       'Classic Movies, Comedies, Cult Movies',\n",
              "       'Classic Movies, Comedies, Dramas',\n",
              "       'Classic Movies, Comedies, Independent Movies',\n",
              "       'Classic Movies, Comedies, International Movies',\n",
              "       'Classic Movies, Comedies, Music & Musicals',\n",
              "       'Classic Movies, Comedies, Romantic Movies',\n",
              "       'Classic Movies, Comedies, Sports Movies',\n",
              "       'Classic Movies, Cult Movies, Documentaries',\n",
              "       'Classic Movies, Cult Movies, Dramas',\n",
              "       'Classic Movies, Cult Movies, Horror Movies',\n",
              "       'Classic Movies, Documentaries', 'Classic Movies, Dramas',\n",
              "       'Classic Movies, Dramas, Independent Movies',\n",
              "       'Classic Movies, Dramas, International Movies',\n",
              "       'Classic Movies, Dramas, LGBTQ Movies',\n",
              "       'Classic Movies, Dramas, Music & Musicals',\n",
              "       'Classic Movies, Dramas, Romantic Movies',\n",
              "       'Classic Movies, Dramas, Sports Movies',\n",
              "       'Classic Movies, Horror Movies, Thrillers',\n",
              "       'Classic Movies, Independent Movies, Thrillers',\n",
              "       'Classic Movies, Music & Musicals', 'Classic Movies, Thrillers',\n",
              "       'Comedies', 'Comedies, Cult Movies',\n",
              "       'Comedies, Cult Movies, Dramas',\n",
              "       'Comedies, Cult Movies, Horror Movies',\n",
              "       'Comedies, Cult Movies, Independent Movies',\n",
              "       'Comedies, Cult Movies, International Movies',\n",
              "       'Comedies, Cult Movies, LGBTQ Movies',\n",
              "       'Comedies, Cult Movies, Music & Musicals',\n",
              "       'Comedies, Cult Movies, Sci-Fi & Fantasy',\n",
              "       'Comedies, Cult Movies, Sports Movies', 'Comedies, Documentaries',\n",
              "       'Comedies, Documentaries, International Movies',\n",
              "       'Comedies, Dramas', 'Comedies, Dramas, Faith & Spirituality',\n",
              "       'Comedies, Dramas, Independent Movies',\n",
              "       'Comedies, Dramas, International Movies',\n",
              "       'Comedies, Dramas, LGBTQ Movies',\n",
              "       'Comedies, Dramas, Music & Musicals',\n",
              "       'Comedies, Dramas, Romantic Movies',\n",
              "       'Comedies, Dramas, Sports Movies',\n",
              "       'Comedies, Faith & Spirituality, International Movies',\n",
              "       'Comedies, Faith & Spirituality, Romantic Movies',\n",
              "       'Comedies, Horror Movies',\n",
              "       'Comedies, Horror Movies, Independent Movies',\n",
              "       'Comedies, Horror Movies, International Movies',\n",
              "       'Comedies, Horror Movies, Sci-Fi & Fantasy',\n",
              "       'Comedies, Independent Movies',\n",
              "       'Comedies, Independent Movies, International Movies',\n",
              "       'Comedies, Independent Movies, LGBTQ Movies',\n",
              "       'Comedies, Independent Movies, Music & Musicals',\n",
              "       'Comedies, Independent Movies, Romantic Movies',\n",
              "       'Comedies, Independent Movies, Thrillers',\n",
              "       'Comedies, International Movies',\n",
              "       'Comedies, International Movies, LGBTQ Movies',\n",
              "       'Comedies, International Movies, Music & Musicals',\n",
              "       'Comedies, International Movies, Romantic Movies',\n",
              "       'Comedies, International Movies, Sci-Fi & Fantasy',\n",
              "       'Comedies, International Movies, Sports Movies',\n",
              "       'Comedies, International Movies, Thrillers',\n",
              "       'Comedies, LGBTQ Movies',\n",
              "       'Comedies, LGBTQ Movies, Music & Musicals',\n",
              "       'Comedies, LGBTQ Movies, Thrillers', 'Comedies, Music & Musicals',\n",
              "       'Comedies, Music & Musicals, Romantic Movies',\n",
              "       'Comedies, Music & Musicals, Sports Movies',\n",
              "       'Comedies, Romantic Movies',\n",
              "       'Comedies, Romantic Movies, Sports Movies',\n",
              "       'Comedies, Sci-Fi & Fantasy', 'Comedies, Sports Movies',\n",
              "       'Crime TV Shows, Docuseries',\n",
              "       'Crime TV Shows, Docuseries, International TV Shows',\n",
              "       'Crime TV Shows, Docuseries, Science & Nature TV',\n",
              "       'Crime TV Shows, Docuseries, TV Mysteries',\n",
              "       'Crime TV Shows, International TV Shows, Korean TV Shows',\n",
              "       'Crime TV Shows, International TV Shows, Reality TV',\n",
              "       'Crime TV Shows, International TV Shows, Romantic TV Shows',\n",
              "       'Crime TV Shows, International TV Shows, Spanish-Language TV Shows',\n",
              "       'Crime TV Shows, International TV Shows, TV Action & Adventure',\n",
              "       'Crime TV Shows, International TV Shows, TV Comedies',\n",
              "       'Crime TV Shows, International TV Shows, TV Dramas',\n",
              "       'Crime TV Shows, International TV Shows, TV Mysteries',\n",
              "       'Crime TV Shows, International TV Shows, TV Sci-Fi & Fantasy',\n",
              "       'Crime TV Shows, International TV Shows, TV Thrillers',\n",
              "       \"Crime TV Shows, Kids' TV\",\n",
              "       \"Crime TV Shows, Kids' TV, TV Comedies\",\n",
              "       'Crime TV Shows, Romantic TV Shows, Spanish-Language TV Shows',\n",
              "       'Crime TV Shows, Romantic TV Shows, TV Dramas',\n",
              "       'Crime TV Shows, Spanish-Language TV Shows, TV Action & Adventure',\n",
              "       'Crime TV Shows, Spanish-Language TV Shows, TV Dramas',\n",
              "       'Crime TV Shows, TV Action & Adventure',\n",
              "       'Crime TV Shows, TV Action & Adventure, TV Comedies',\n",
              "       'Crime TV Shows, TV Action & Adventure, TV Dramas',\n",
              "       'Crime TV Shows, TV Action & Adventure, TV Sci-Fi & Fantasy',\n",
              "       'Crime TV Shows, TV Action & Adventure, TV Thrillers',\n",
              "       'Crime TV Shows, TV Comedies',\n",
              "       'Crime TV Shows, TV Comedies, TV Dramas',\n",
              "       'Crime TV Shows, TV Comedies, Teen TV Shows',\n",
              "       'Crime TV Shows, TV Dramas',\n",
              "       'Crime TV Shows, TV Dramas, TV Horror',\n",
              "       'Crime TV Shows, TV Dramas, TV Mysteries',\n",
              "       'Crime TV Shows, TV Dramas, TV Thrillers',\n",
              "       'Crime TV Shows, TV Horror, TV Mysteries',\n",
              "       'Cult Movies, Dramas, International Movies',\n",
              "       'Cult Movies, Dramas, Music & Musicals',\n",
              "       'Cult Movies, Dramas, Thrillers', 'Cult Movies, Horror Movies',\n",
              "       'Cult Movies, Horror Movies, Independent Movies',\n",
              "       'Cult Movies, Horror Movies, Thrillers',\n",
              "       'Cult Movies, Independent Movies, Thrillers', 'Documentaries',\n",
              "       'Documentaries, Dramas',\n",
              "       'Documentaries, Dramas, International Movies',\n",
              "       'Documentaries, Faith & Spirituality',\n",
              "       'Documentaries, Faith & Spirituality, International Movies',\n",
              "       'Documentaries, Faith & Spirituality, Music & Musicals',\n",
              "       'Documentaries, Horror Movies',\n",
              "       'Documentaries, International Movies',\n",
              "       'Documentaries, International Movies, LGBTQ Movies',\n",
              "       'Documentaries, International Movies, Music & Musicals',\n",
              "       'Documentaries, International Movies, Sports Movies',\n",
              "       'Documentaries, LGBTQ Movies',\n",
              "       'Documentaries, LGBTQ Movies, Music & Musicals',\n",
              "       'Documentaries, LGBTQ Movies, Sports Movies',\n",
              "       'Documentaries, Music & Musicals', 'Documentaries, Sports Movies',\n",
              "       'Documentaries, Stand-Up Comedy', 'Docuseries',\n",
              "       'Docuseries, International TV Shows',\n",
              "       'Docuseries, International TV Shows, Reality TV',\n",
              "       'Docuseries, International TV Shows, Science & Nature TV',\n",
              "       'Docuseries, International TV Shows, Spanish-Language TV Shows',\n",
              "       \"Docuseries, Kids' TV, Science & Nature TV\",\n",
              "       'Docuseries, Reality TV',\n",
              "       'Docuseries, Reality TV, Science & Nature TV',\n",
              "       'Docuseries, Reality TV, Teen TV Shows',\n",
              "       'Docuseries, Science & Nature TV',\n",
              "       'Docuseries, Science & Nature TV, TV Action & Adventure',\n",
              "       'Docuseries, Science & Nature TV, TV Comedies',\n",
              "       'Docuseries, Science & Nature TV, TV Dramas',\n",
              "       'Docuseries, Spanish-Language TV Shows',\n",
              "       'Docuseries, Stand-Up Comedy & Talk Shows',\n",
              "       'Docuseries, TV Comedies', 'Docuseries, TV Dramas',\n",
              "       'Docuseries, TV Sci-Fi & Fantasy', 'Dramas',\n",
              "       'Dramas, Faith & Spirituality',\n",
              "       'Dramas, Faith & Spirituality, Independent Movies',\n",
              "       'Dramas, Faith & Spirituality, International Movies',\n",
              "       'Dramas, Faith & Spirituality, Romantic Movies',\n",
              "       'Dramas, Faith & Spirituality, Sports Movies',\n",
              "       'Dramas, Horror Movies, Music & Musicals',\n",
              "       'Dramas, Horror Movies, Sci-Fi & Fantasy',\n",
              "       'Dramas, Horror Movies, Thrillers', 'Dramas, Independent Movies',\n",
              "       'Dramas, Independent Movies, International Movies',\n",
              "       'Dramas, Independent Movies, LGBTQ Movies',\n",
              "       'Dramas, Independent Movies, Music & Musicals',\n",
              "       'Dramas, Independent Movies, Romantic Movies',\n",
              "       'Dramas, Independent Movies, Sci-Fi & Fantasy',\n",
              "       'Dramas, Independent Movies, Sports Movies',\n",
              "       'Dramas, Independent Movies, Thrillers',\n",
              "       'Dramas, International Movies',\n",
              "       'Dramas, International Movies, LGBTQ Movies',\n",
              "       'Dramas, International Movies, Music & Musicals',\n",
              "       'Dramas, International Movies, Romantic Movies',\n",
              "       'Dramas, International Movies, Sci-Fi & Fantasy',\n",
              "       'Dramas, International Movies, Sports Movies',\n",
              "       'Dramas, International Movies, Thrillers', 'Dramas, LGBTQ Movies',\n",
              "       'Dramas, LGBTQ Movies, Romantic Movies',\n",
              "       'Dramas, Music & Musicals',\n",
              "       'Dramas, Music & Musicals, Romantic Movies',\n",
              "       'Dramas, Romantic Movies',\n",
              "       'Dramas, Romantic Movies, Sci-Fi & Fantasy',\n",
              "       'Dramas, Romantic Movies, Sports Movies',\n",
              "       'Dramas, Romantic Movies, Thrillers', 'Dramas, Sci-Fi & Fantasy',\n",
              "       'Dramas, Sci-Fi & Fantasy, Thrillers', 'Dramas, Sports Movies',\n",
              "       'Dramas, Thrillers', 'Horror Movies',\n",
              "       'Horror Movies, Independent Movies',\n",
              "       'Horror Movies, Independent Movies, International Movies',\n",
              "       'Horror Movies, Independent Movies, Sci-Fi & Fantasy',\n",
              "       'Horror Movies, Independent Movies, Thrillers',\n",
              "       'Horror Movies, International Movies',\n",
              "       'Horror Movies, International Movies, Romantic Movies',\n",
              "       'Horror Movies, International Movies, Sci-Fi & Fantasy',\n",
              "       'Horror Movies, International Movies, Thrillers',\n",
              "       'Horror Movies, LGBTQ Movies',\n",
              "       'Horror Movies, LGBTQ Movies, Music & Musicals',\n",
              "       'Horror Movies, Romantic Movies, Sci-Fi & Fantasy',\n",
              "       'Horror Movies, Sci-Fi & Fantasy',\n",
              "       'Horror Movies, Sci-Fi & Fantasy, Thrillers',\n",
              "       'Horror Movies, Thrillers', 'Independent Movies',\n",
              "       'Independent Movies, International Movies, Thrillers',\n",
              "       'Independent Movies, Sci-Fi & Fantasy, Thrillers',\n",
              "       'Independent Movies, Thrillers', 'International Movies',\n",
              "       'International Movies, LGBTQ Movies, Romantic Movies',\n",
              "       'International Movies, Music & Musicals',\n",
              "       'International Movies, Music & Musicals, Romantic Movies',\n",
              "       'International Movies, Music & Musicals, Thrillers',\n",
              "       'International Movies, Romantic Movies',\n",
              "       'International Movies, Romantic Movies, Sci-Fi & Fantasy',\n",
              "       'International Movies, Romantic Movies, Thrillers',\n",
              "       'International Movies, Sci-Fi & Fantasy',\n",
              "       'International Movies, Sci-Fi & Fantasy, Thrillers',\n",
              "       'International Movies, Sports Movies',\n",
              "       'International Movies, Thrillers', 'International TV Shows',\n",
              "       \"International TV Shows, Kids' TV, TV Mysteries\",\n",
              "       'International TV Shows, Korean TV Shows, Reality TV',\n",
              "       'International TV Shows, Korean TV Shows, Romantic TV Shows',\n",
              "       'International TV Shows, Korean TV Shows, Stand-Up Comedy & Talk Shows',\n",
              "       'International TV Shows, Korean TV Shows, TV Action & Adventure',\n",
              "       'International TV Shows, Korean TV Shows, TV Comedies',\n",
              "       'International TV Shows, Korean TV Shows, TV Dramas',\n",
              "       'International TV Shows, Korean TV Shows, TV Horror',\n",
              "       'International TV Shows, Reality TV',\n",
              "       'International TV Shows, Reality TV, Romantic TV Shows',\n",
              "       'International TV Shows, Reality TV, Spanish-Language TV Shows',\n",
              "       'International TV Shows, Reality TV, TV Action & Adventure',\n",
              "       'International TV Shows, Reality TV, TV Comedies',\n",
              "       'International TV Shows, Romantic TV Shows',\n",
              "       'International TV Shows, Romantic TV Shows, Spanish-Language TV Shows',\n",
              "       'International TV Shows, Romantic TV Shows, TV Action & Adventure',\n",
              "       'International TV Shows, Romantic TV Shows, TV Comedies',\n",
              "       'International TV Shows, Romantic TV Shows, TV Dramas',\n",
              "       'International TV Shows, Romantic TV Shows, TV Mysteries',\n",
              "       'International TV Shows, Romantic TV Shows, Teen TV Shows',\n",
              "       'International TV Shows, Spanish-Language TV Shows, Stand-Up Comedy & Talk Shows',\n",
              "       'International TV Shows, Spanish-Language TV Shows, TV Action & Adventure',\n",
              "       'International TV Shows, Spanish-Language TV Shows, TV Comedies',\n",
              "       'International TV Shows, Spanish-Language TV Shows, TV Dramas',\n",
              "       'International TV Shows, Spanish-Language TV Shows, TV Horror',\n",
              "       'International TV Shows, Stand-Up Comedy & Talk Shows',\n",
              "       'International TV Shows, Stand-Up Comedy & Talk Shows, TV Comedies',\n",
              "       'International TV Shows, TV Action & Adventure, TV Comedies',\n",
              "       'International TV Shows, TV Action & Adventure, TV Dramas',\n",
              "       'International TV Shows, TV Action & Adventure, TV Horror',\n",
              "       'International TV Shows, TV Action & Adventure, TV Mysteries',\n",
              "       'International TV Shows, TV Action & Adventure, TV Sci-Fi & Fantasy',\n",
              "       'International TV Shows, TV Comedies',\n",
              "       'International TV Shows, TV Comedies, TV Dramas',\n",
              "       'International TV Shows, TV Comedies, TV Sci-Fi & Fantasy',\n",
              "       'International TV Shows, TV Dramas',\n",
              "       'International TV Shows, TV Dramas, TV Horror',\n",
              "       'International TV Shows, TV Dramas, TV Mysteries',\n",
              "       'International TV Shows, TV Dramas, TV Sci-Fi & Fantasy',\n",
              "       'International TV Shows, TV Dramas, TV Thrillers',\n",
              "       'International TV Shows, TV Dramas, Teen TV Shows',\n",
              "       'International TV Shows, TV Horror, TV Mysteries',\n",
              "       'International TV Shows, TV Horror, TV Sci-Fi & Fantasy',\n",
              "       'International TV Shows, TV Horror, TV Thrillers',\n",
              "       'International TV Shows, TV Mysteries, TV Thrillers', \"Kids' TV\",\n",
              "       \"Kids' TV, Korean TV Shows\",\n",
              "       \"Kids' TV, Korean TV Shows, TV Comedies\",\n",
              "       \"Kids' TV, Reality TV, Science & Nature TV\",\n",
              "       \"Kids' TV, Reality TV, TV Dramas\",\n",
              "       \"Kids' TV, Spanish-Language TV Shows\",\n",
              "       \"Kids' TV, Spanish-Language TV Shows, Teen TV Shows\",\n",
              "       \"Kids' TV, TV Action & Adventure\",\n",
              "       \"Kids' TV, TV Action & Adventure, TV Comedies\",\n",
              "       \"Kids' TV, TV Action & Adventure, TV Dramas\",\n",
              "       \"Kids' TV, TV Action & Adventure, TV Sci-Fi & Fantasy\",\n",
              "       \"Kids' TV, TV Comedies\", \"Kids' TV, TV Comedies, TV Dramas\",\n",
              "       \"Kids' TV, TV Comedies, TV Sci-Fi & Fantasy\",\n",
              "       \"Kids' TV, TV Comedies, Teen TV Shows\", \"Kids' TV, TV Dramas\",\n",
              "       \"Kids' TV, TV Dramas, Teen TV Shows\",\n",
              "       \"Kids' TV, TV Sci-Fi & Fantasy\", \"Kids' TV, TV Thrillers\",\n",
              "       'LGBTQ Movies, Thrillers', 'Movies', 'Music & Musicals',\n",
              "       'Music & Musicals, Romantic Movies',\n",
              "       'Music & Musicals, Stand-Up Comedy', 'Reality TV',\n",
              "       'Reality TV, Romantic TV Shows', 'Reality TV, Science & Nature TV',\n",
              "       'Reality TV, Science & Nature TV, TV Action & Adventure',\n",
              "       'Reality TV, Spanish-Language TV Shows',\n",
              "       'Reality TV, TV Action & Adventure, TV Mysteries',\n",
              "       'Reality TV, TV Comedies', 'Reality TV, TV Comedies, TV Horror',\n",
              "       'Reality TV, TV Horror, TV Thrillers', 'Reality TV, Teen TV Shows',\n",
              "       'Romantic Movies',\n",
              "       'Romantic TV Shows, Spanish-Language TV Shows, TV Comedies',\n",
              "       'Romantic TV Shows, Spanish-Language TV Shows, TV Dramas',\n",
              "       'Romantic TV Shows, TV Action & Adventure, TV Dramas',\n",
              "       'Romantic TV Shows, TV Comedies',\n",
              "       'Romantic TV Shows, TV Comedies, TV Dramas',\n",
              "       'Romantic TV Shows, TV Dramas',\n",
              "       'Romantic TV Shows, TV Dramas, TV Sci-Fi & Fantasy',\n",
              "       'Romantic TV Shows, TV Dramas, Teen TV Shows',\n",
              "       'Romantic TV Shows, Teen TV Shows', 'Sci-Fi & Fantasy',\n",
              "       'Sci-Fi & Fantasy, Thrillers',\n",
              "       'Spanish-Language TV Shows, TV Dramas', 'Sports Movies',\n",
              "       'Stand-Up Comedy', 'Stand-Up Comedy & Talk Shows',\n",
              "       'Stand-Up Comedy & Talk Shows, TV Comedies',\n",
              "       'Stand-Up Comedy & Talk Shows, TV Mysteries, TV Sci-Fi & Fantasy',\n",
              "       'TV Action & Adventure', 'TV Action & Adventure, TV Comedies',\n",
              "       'TV Action & Adventure, TV Comedies, TV Dramas',\n",
              "       'TV Action & Adventure, TV Comedies, TV Horror',\n",
              "       'TV Action & Adventure, TV Comedies, TV Sci-Fi & Fantasy',\n",
              "       'TV Action & Adventure, TV Dramas',\n",
              "       'TV Action & Adventure, TV Dramas, TV Horror',\n",
              "       'TV Action & Adventure, TV Dramas, TV Mysteries',\n",
              "       'TV Action & Adventure, TV Dramas, TV Sci-Fi & Fantasy',\n",
              "       'TV Action & Adventure, TV Dramas, Teen TV Shows',\n",
              "       'TV Action & Adventure, TV Horror, TV Sci-Fi & Fantasy',\n",
              "       'TV Action & Adventure, TV Mysteries, TV Sci-Fi & Fantasy',\n",
              "       'TV Action & Adventure, TV Sci-Fi & Fantasy', 'TV Comedies',\n",
              "       'TV Comedies, TV Dramas', 'TV Comedies, TV Dramas, TV Horror',\n",
              "       'TV Comedies, TV Dramas, TV Mysteries',\n",
              "       'TV Comedies, TV Dramas, TV Sci-Fi & Fantasy',\n",
              "       'TV Comedies, TV Dramas, Teen TV Shows',\n",
              "       'TV Comedies, TV Horror, TV Thrillers',\n",
              "       'TV Comedies, TV Mysteries', 'TV Comedies, TV Sci-Fi & Fantasy',\n",
              "       'TV Comedies, TV Sci-Fi & Fantasy, Teen TV Shows',\n",
              "       'TV Comedies, Teen TV Shows', 'TV Dramas',\n",
              "       'TV Dramas, TV Horror, TV Mysteries',\n",
              "       'TV Dramas, TV Mysteries, TV Sci-Fi & Fantasy',\n",
              "       'TV Dramas, TV Mysteries, TV Thrillers',\n",
              "       'TV Dramas, TV Sci-Fi & Fantasy',\n",
              "       'TV Dramas, TV Sci-Fi & Fantasy, TV Thrillers',\n",
              "       'TV Dramas, TV Sci-Fi & Fantasy, Teen TV Shows',\n",
              "       'TV Dramas, TV Thrillers', 'TV Dramas, Teen TV Shows',\n",
              "       'TV Horror, TV Mysteries, TV Sci-Fi & Fantasy',\n",
              "       'TV Horror, TV Mysteries, TV Thrillers',\n",
              "       'TV Horror, TV Mysteries, Teen TV Shows',\n",
              "       'TV Horror, Teen TV Shows', 'TV Sci-Fi & Fantasy, TV Thrillers',\n",
              "       'TV Shows', 'Thrillers'], dtype=object)"
            ]
          },
          "metadata": {},
          "execution_count": 13
        }
      ]
    },
    {
      "cell_type": "code",
      "source": [
        "df['rating'].value_counts()"
      ],
      "metadata": {
        "colab": {
          "base_uri": "https://localhost:8080/"
        },
        "id": "lW4xvjxgSpDQ",
        "outputId": "b512a983-8733-4150-c3d9-53b24d1fdc6c"
      },
      "execution_count": 14,
      "outputs": [
        {
          "output_type": "execute_result",
          "data": {
            "text/plain": [
              "TV-MA       3205\n",
              "TV-14       2157\n",
              "TV-PG        861\n",
              "R            799\n",
              "PG-13        490\n",
              "TV-Y7        333\n",
              "TV-Y         306\n",
              "PG           287\n",
              "TV-G         220\n",
              "NR            79\n",
              "G             41\n",
              "TV-Y7-FV       6\n",
              "NC-17          3\n",
              "UR             3\n",
              "Name: rating, dtype: int64"
            ]
          },
          "metadata": {},
          "execution_count": 14
        }
      ]
    },
    {
      "cell_type": "code",
      "source": [
        "df['duration'].value_counts()"
      ],
      "metadata": {
        "colab": {
          "base_uri": "https://localhost:8080/"
        },
        "id": "mMf8MvyyXQaj",
        "outputId": "4dddddb7-f340-4ad0-e372-d014904c27fe"
      },
      "execution_count": 15,
      "outputs": [
        {
          "output_type": "execute_result",
          "data": {
            "text/plain": [
              "1 Season      1791\n",
              "2 Seasons      421\n",
              "3 Seasons      198\n",
              "90 min         152\n",
              "97 min         146\n",
              "              ... \n",
              "5 min            1\n",
              "16 min           1\n",
              "186 min          1\n",
              "193 min          1\n",
              "11 Seasons       1\n",
              "Name: duration, Length: 220, dtype: int64"
            ]
          },
          "metadata": {},
          "execution_count": 15
        }
      ]
    },
    {
      "cell_type": "code",
      "source": [
        "df['director'].value_counts()"
      ],
      "metadata": {
        "colab": {
          "base_uri": "https://localhost:8080/"
        },
        "id": "RlSjgWzFUMk7",
        "outputId": "e94e60ec-e135-4c45-b7c1-678ee797c071"
      },
      "execution_count": 16,
      "outputs": [
        {
          "output_type": "execute_result",
          "data": {
            "text/plain": [
              "Not Given                         2588\n",
              "Rajiv Chilaka                       20\n",
              "Alastair Fothergill                 18\n",
              "Raúl Campos, Jan Suter              18\n",
              "Suhas Kadav                         16\n",
              "                                  ... \n",
              "Matt D'Avella                        1\n",
              "Parthiban                            1\n",
              "Scott McAboy                         1\n",
              "Raymie Muzquiz, Stu Livingston       1\n",
              "Mozez Singh                          1\n",
              "Name: director, Length: 4528, dtype: int64"
            ]
          },
          "metadata": {},
          "execution_count": 16
        }
      ]
    },
    {
      "cell_type": "code",
      "source": [
        "top10genre= df['listed_in'].value_counts().head(10)\n",
        "top10genre"
      ],
      "metadata": {
        "colab": {
          "base_uri": "https://localhost:8080/"
        },
        "id": "juL8mFJhcOHR",
        "outputId": "1e3f3e29-c30a-4272-cda2-ca990ed55b63"
      },
      "execution_count": 17,
      "outputs": [
        {
          "output_type": "execute_result",
          "data": {
            "text/plain": [
              "Dramas, International Movies                        362\n",
              "Documentaries                                       359\n",
              "Stand-Up Comedy                                     334\n",
              "Comedies, Dramas, International Movies              274\n",
              "Dramas, Independent Movies, International Movies    252\n",
              "Kids' TV                                            219\n",
              "Children & Family Movies                            215\n",
              "Children & Family Movies, Comedies                  201\n",
              "Documentaries, International Movies                 186\n",
              "Dramas, International Movies, Romantic Movies       180\n",
              "Name: listed_in, dtype: int64"
            ]
          },
          "metadata": {},
          "execution_count": 17
        }
      ]
    },
    {
      "cell_type": "code",
      "source": [
        "top10country=df['country'].value_counts().head(10)\n",
        "top10country"
      ],
      "metadata": {
        "colab": {
          "base_uri": "https://localhost:8080/"
        },
        "id": "QTjDPXuXfTIy",
        "outputId": "f908f214-da87-4c12-d69c-505eb19d63ca"
      },
      "execution_count": 18,
      "outputs": [
        {
          "output_type": "execute_result",
          "data": {
            "text/plain": [
              "United States     3240\n",
              "India             1057\n",
              "United Kingdom     638\n",
              "Pakistan           421\n",
              "Not Given          287\n",
              "Canada             271\n",
              "Japan              259\n",
              "South Korea        214\n",
              "France             213\n",
              "Spain              182\n",
              "Name: country, dtype: int64"
            ]
          },
          "metadata": {},
          "execution_count": 18
        }
      ]
    },
    {
      "cell_type": "code",
      "source": [
        "top10duration=df['duration'].value_counts().head(10)\n",
        "top10duration"
      ],
      "metadata": {
        "colab": {
          "base_uri": "https://localhost:8080/"
        },
        "id": "m7Rol_KJff-3",
        "outputId": "4c0fb6d7-c53e-4774-affa-32a58fd1af70"
      },
      "execution_count": 19,
      "outputs": [
        {
          "output_type": "execute_result",
          "data": {
            "text/plain": [
              "1 Season     1791\n",
              "2 Seasons     421\n",
              "3 Seasons     198\n",
              "90 min        152\n",
              "97 min        146\n",
              "93 min        146\n",
              "94 min        146\n",
              "91 min        144\n",
              "95 min        137\n",
              "96 min        130\n",
              "Name: duration, dtype: int64"
            ]
          },
          "metadata": {},
          "execution_count": 19
        }
      ]
    },
    {
      "cell_type": "code",
      "source": [
        "top10relyear=df['release_year'].value_counts().head(10)\n",
        "top10relyear"
      ],
      "metadata": {
        "colab": {
          "base_uri": "https://localhost:8080/"
        },
        "id": "if--4BC9iKfl",
        "outputId": "4c0c5046-b6e3-4bfa-dd77-8b0cd88b7023"
      },
      "execution_count": 20,
      "outputs": [
        {
          "output_type": "execute_result",
          "data": {
            "text/plain": [
              "2018    1146\n",
              "2017    1030\n",
              "2019    1030\n",
              "2020     953\n",
              "2016     901\n",
              "2021     592\n",
              "2015     555\n",
              "2014     352\n",
              "2013     286\n",
              "2012     236\n",
              "Name: release_year, dtype: int64"
            ]
          },
          "metadata": {},
          "execution_count": 20
        }
      ]
    },
    {
      "cell_type": "markdown",
      "source": [
        "# **Calculating Added Year from Added Date Feature**"
      ],
      "metadata": {
        "id": "MaPppLHuWbf0"
      }
    },
    {
      "cell_type": "code",
      "source": [
        "df.drop('show_id',axis=1,inplace=True)"
      ],
      "metadata": {
        "id": "y8sbktYlWjao"
      },
      "execution_count": 21,
      "outputs": []
    },
    {
      "cell_type": "code",
      "source": [
        "df"
      ],
      "metadata": {
        "colab": {
          "base_uri": "https://localhost:8080/",
          "height": 424
        },
        "id": "2XEIfwlDXLTx",
        "outputId": "1ca648ed-05b5-40c9-f15b-9e51662d1a7a"
      },
      "execution_count": 22,
      "outputs": [
        {
          "output_type": "execute_result",
          "data": {
            "text/plain": [
              "         type                             title         director  \\\n",
              "0       Movie              Dick Johnson Is Dead  Kirsten Johnson   \n",
              "1     TV Show                         Ganglands  Julien Leclercq   \n",
              "2     TV Show                     Midnight Mass    Mike Flanagan   \n",
              "3       Movie  Confessions of an Invisible Girl    Bruno Garotti   \n",
              "4       Movie                           Sankofa     Haile Gerima   \n",
              "...       ...                               ...              ...   \n",
              "8785  TV Show                        Yunus Emre        Not Given   \n",
              "8786  TV Show                         Zak Storm        Not Given   \n",
              "8787  TV Show                Zindagi Gulzar Hai        Not Given   \n",
              "8788  TV Show                              Yoko        Not Given   \n",
              "8789  TV Show                               YOM        Not Given   \n",
              "\n",
              "            country  date_added  release_year rating   duration  \\\n",
              "0     United States   9/25/2021          2020  PG-13     90 min   \n",
              "1            France   9/24/2021          2021  TV-MA   1 Season   \n",
              "2     United States   9/24/2021          2021  TV-MA   1 Season   \n",
              "3            Brazil   9/22/2021          2021  TV-PG     91 min   \n",
              "4     United States   9/24/2021          1993  TV-MA    125 min   \n",
              "...             ...         ...           ...    ...        ...   \n",
              "8785         Turkey   1/17/2017          2016  TV-PG  2 Seasons   \n",
              "8786  United States   9/13/2018          2016  TV-Y7  3 Seasons   \n",
              "8787       Pakistan  12/15/2016          2012  TV-PG   1 Season   \n",
              "8788       Pakistan   6/23/2018          2016   TV-Y   1 Season   \n",
              "8789       Pakistan    6/7/2018          2016  TV-Y7   1 Season   \n",
              "\n",
              "                                              listed_in  \n",
              "0                                         Documentaries  \n",
              "1     Crime TV Shows, International TV Shows, TV Act...  \n",
              "2                    TV Dramas, TV Horror, TV Mysteries  \n",
              "3                    Children & Family Movies, Comedies  \n",
              "4      Dramas, Independent Movies, International Movies  \n",
              "...                                                 ...  \n",
              "8785                  International TV Shows, TV Dramas  \n",
              "8786                                           Kids' TV  \n",
              "8787  International TV Shows, Romantic TV Shows, TV ...  \n",
              "8788                                           Kids' TV  \n",
              "8789                                           Kids' TV  \n",
              "\n",
              "[8790 rows x 9 columns]"
            ],
            "text/html": [
              "\n",
              "  <div id=\"df-6ddf0794-c1e2-4896-81e4-efd36159befb\" class=\"colab-df-container\">\n",
              "    <div>\n",
              "<style scoped>\n",
              "    .dataframe tbody tr th:only-of-type {\n",
              "        vertical-align: middle;\n",
              "    }\n",
              "\n",
              "    .dataframe tbody tr th {\n",
              "        vertical-align: top;\n",
              "    }\n",
              "\n",
              "    .dataframe thead th {\n",
              "        text-align: right;\n",
              "    }\n",
              "</style>\n",
              "<table border=\"1\" class=\"dataframe\">\n",
              "  <thead>\n",
              "    <tr style=\"text-align: right;\">\n",
              "      <th></th>\n",
              "      <th>type</th>\n",
              "      <th>title</th>\n",
              "      <th>director</th>\n",
              "      <th>country</th>\n",
              "      <th>date_added</th>\n",
              "      <th>release_year</th>\n",
              "      <th>rating</th>\n",
              "      <th>duration</th>\n",
              "      <th>listed_in</th>\n",
              "    </tr>\n",
              "  </thead>\n",
              "  <tbody>\n",
              "    <tr>\n",
              "      <th>0</th>\n",
              "      <td>Movie</td>\n",
              "      <td>Dick Johnson Is Dead</td>\n",
              "      <td>Kirsten Johnson</td>\n",
              "      <td>United States</td>\n",
              "      <td>9/25/2021</td>\n",
              "      <td>2020</td>\n",
              "      <td>PG-13</td>\n",
              "      <td>90 min</td>\n",
              "      <td>Documentaries</td>\n",
              "    </tr>\n",
              "    <tr>\n",
              "      <th>1</th>\n",
              "      <td>TV Show</td>\n",
              "      <td>Ganglands</td>\n",
              "      <td>Julien Leclercq</td>\n",
              "      <td>France</td>\n",
              "      <td>9/24/2021</td>\n",
              "      <td>2021</td>\n",
              "      <td>TV-MA</td>\n",
              "      <td>1 Season</td>\n",
              "      <td>Crime TV Shows, International TV Shows, TV Act...</td>\n",
              "    </tr>\n",
              "    <tr>\n",
              "      <th>2</th>\n",
              "      <td>TV Show</td>\n",
              "      <td>Midnight Mass</td>\n",
              "      <td>Mike Flanagan</td>\n",
              "      <td>United States</td>\n",
              "      <td>9/24/2021</td>\n",
              "      <td>2021</td>\n",
              "      <td>TV-MA</td>\n",
              "      <td>1 Season</td>\n",
              "      <td>TV Dramas, TV Horror, TV Mysteries</td>\n",
              "    </tr>\n",
              "    <tr>\n",
              "      <th>3</th>\n",
              "      <td>Movie</td>\n",
              "      <td>Confessions of an Invisible Girl</td>\n",
              "      <td>Bruno Garotti</td>\n",
              "      <td>Brazil</td>\n",
              "      <td>9/22/2021</td>\n",
              "      <td>2021</td>\n",
              "      <td>TV-PG</td>\n",
              "      <td>91 min</td>\n",
              "      <td>Children &amp; Family Movies, Comedies</td>\n",
              "    </tr>\n",
              "    <tr>\n",
              "      <th>4</th>\n",
              "      <td>Movie</td>\n",
              "      <td>Sankofa</td>\n",
              "      <td>Haile Gerima</td>\n",
              "      <td>United States</td>\n",
              "      <td>9/24/2021</td>\n",
              "      <td>1993</td>\n",
              "      <td>TV-MA</td>\n",
              "      <td>125 min</td>\n",
              "      <td>Dramas, Independent Movies, International Movies</td>\n",
              "    </tr>\n",
              "    <tr>\n",
              "      <th>...</th>\n",
              "      <td>...</td>\n",
              "      <td>...</td>\n",
              "      <td>...</td>\n",
              "      <td>...</td>\n",
              "      <td>...</td>\n",
              "      <td>...</td>\n",
              "      <td>...</td>\n",
              "      <td>...</td>\n",
              "      <td>...</td>\n",
              "    </tr>\n",
              "    <tr>\n",
              "      <th>8785</th>\n",
              "      <td>TV Show</td>\n",
              "      <td>Yunus Emre</td>\n",
              "      <td>Not Given</td>\n",
              "      <td>Turkey</td>\n",
              "      <td>1/17/2017</td>\n",
              "      <td>2016</td>\n",
              "      <td>TV-PG</td>\n",
              "      <td>2 Seasons</td>\n",
              "      <td>International TV Shows, TV Dramas</td>\n",
              "    </tr>\n",
              "    <tr>\n",
              "      <th>8786</th>\n",
              "      <td>TV Show</td>\n",
              "      <td>Zak Storm</td>\n",
              "      <td>Not Given</td>\n",
              "      <td>United States</td>\n",
              "      <td>9/13/2018</td>\n",
              "      <td>2016</td>\n",
              "      <td>TV-Y7</td>\n",
              "      <td>3 Seasons</td>\n",
              "      <td>Kids' TV</td>\n",
              "    </tr>\n",
              "    <tr>\n",
              "      <th>8787</th>\n",
              "      <td>TV Show</td>\n",
              "      <td>Zindagi Gulzar Hai</td>\n",
              "      <td>Not Given</td>\n",
              "      <td>Pakistan</td>\n",
              "      <td>12/15/2016</td>\n",
              "      <td>2012</td>\n",
              "      <td>TV-PG</td>\n",
              "      <td>1 Season</td>\n",
              "      <td>International TV Shows, Romantic TV Shows, TV ...</td>\n",
              "    </tr>\n",
              "    <tr>\n",
              "      <th>8788</th>\n",
              "      <td>TV Show</td>\n",
              "      <td>Yoko</td>\n",
              "      <td>Not Given</td>\n",
              "      <td>Pakistan</td>\n",
              "      <td>6/23/2018</td>\n",
              "      <td>2016</td>\n",
              "      <td>TV-Y</td>\n",
              "      <td>1 Season</td>\n",
              "      <td>Kids' TV</td>\n",
              "    </tr>\n",
              "    <tr>\n",
              "      <th>8789</th>\n",
              "      <td>TV Show</td>\n",
              "      <td>YOM</td>\n",
              "      <td>Not Given</td>\n",
              "      <td>Pakistan</td>\n",
              "      <td>6/7/2018</td>\n",
              "      <td>2016</td>\n",
              "      <td>TV-Y7</td>\n",
              "      <td>1 Season</td>\n",
              "      <td>Kids' TV</td>\n",
              "    </tr>\n",
              "  </tbody>\n",
              "</table>\n",
              "<p>8790 rows × 9 columns</p>\n",
              "</div>\n",
              "    <div class=\"colab-df-buttons\">\n",
              "\n",
              "  <div class=\"colab-df-container\">\n",
              "    <button class=\"colab-df-convert\" onclick=\"convertToInteractive('df-6ddf0794-c1e2-4896-81e4-efd36159befb')\"\n",
              "            title=\"Convert this dataframe to an interactive table.\"\n",
              "            style=\"display:none;\">\n",
              "\n",
              "  <svg xmlns=\"http://www.w3.org/2000/svg\" height=\"24px\" viewBox=\"0 -960 960 960\">\n",
              "    <path d=\"M120-120v-720h720v720H120Zm60-500h600v-160H180v160Zm220 220h160v-160H400v160Zm0 220h160v-160H400v160ZM180-400h160v-160H180v160Zm440 0h160v-160H620v160ZM180-180h160v-160H180v160Zm440 0h160v-160H620v160Z\"/>\n",
              "  </svg>\n",
              "    </button>\n",
              "\n",
              "  <style>\n",
              "    .colab-df-container {\n",
              "      display:flex;\n",
              "      gap: 12px;\n",
              "    }\n",
              "\n",
              "    .colab-df-convert {\n",
              "      background-color: #E8F0FE;\n",
              "      border: none;\n",
              "      border-radius: 50%;\n",
              "      cursor: pointer;\n",
              "      display: none;\n",
              "      fill: #1967D2;\n",
              "      height: 32px;\n",
              "      padding: 0 0 0 0;\n",
              "      width: 32px;\n",
              "    }\n",
              "\n",
              "    .colab-df-convert:hover {\n",
              "      background-color: #E2EBFA;\n",
              "      box-shadow: 0px 1px 2px rgba(60, 64, 67, 0.3), 0px 1px 3px 1px rgba(60, 64, 67, 0.15);\n",
              "      fill: #174EA6;\n",
              "    }\n",
              "\n",
              "    .colab-df-buttons div {\n",
              "      margin-bottom: 4px;\n",
              "    }\n",
              "\n",
              "    [theme=dark] .colab-df-convert {\n",
              "      background-color: #3B4455;\n",
              "      fill: #D2E3FC;\n",
              "    }\n",
              "\n",
              "    [theme=dark] .colab-df-convert:hover {\n",
              "      background-color: #434B5C;\n",
              "      box-shadow: 0px 1px 3px 1px rgba(0, 0, 0, 0.15);\n",
              "      filter: drop-shadow(0px 1px 2px rgba(0, 0, 0, 0.3));\n",
              "      fill: #FFFFFF;\n",
              "    }\n",
              "  </style>\n",
              "\n",
              "    <script>\n",
              "      const buttonEl =\n",
              "        document.querySelector('#df-6ddf0794-c1e2-4896-81e4-efd36159befb button.colab-df-convert');\n",
              "      buttonEl.style.display =\n",
              "        google.colab.kernel.accessAllowed ? 'block' : 'none';\n",
              "\n",
              "      async function convertToInteractive(key) {\n",
              "        const element = document.querySelector('#df-6ddf0794-c1e2-4896-81e4-efd36159befb');\n",
              "        const dataTable =\n",
              "          await google.colab.kernel.invokeFunction('convertToInteractive',\n",
              "                                                    [key], {});\n",
              "        if (!dataTable) return;\n",
              "\n",
              "        const docLinkHtml = 'Like what you see? Visit the ' +\n",
              "          '<a target=\"_blank\" href=https://colab.research.google.com/notebooks/data_table.ipynb>data table notebook</a>'\n",
              "          + ' to learn more about interactive tables.';\n",
              "        element.innerHTML = '';\n",
              "        dataTable['output_type'] = 'display_data';\n",
              "        await google.colab.output.renderOutput(dataTable, element);\n",
              "        const docLink = document.createElement('div');\n",
              "        docLink.innerHTML = docLinkHtml;\n",
              "        element.appendChild(docLink);\n",
              "      }\n",
              "    </script>\n",
              "  </div>\n",
              "\n",
              "\n",
              "<div id=\"df-25b219b9-7de1-486e-a0c3-5d191271942d\">\n",
              "  <button class=\"colab-df-quickchart\" onclick=\"quickchart('df-25b219b9-7de1-486e-a0c3-5d191271942d')\"\n",
              "            title=\"Suggest charts\"\n",
              "            style=\"display:none;\">\n",
              "\n",
              "<svg xmlns=\"http://www.w3.org/2000/svg\" height=\"24px\"viewBox=\"0 0 24 24\"\n",
              "     width=\"24px\">\n",
              "    <g>\n",
              "        <path d=\"M19 3H5c-1.1 0-2 .9-2 2v14c0 1.1.9 2 2 2h14c1.1 0 2-.9 2-2V5c0-1.1-.9-2-2-2zM9 17H7v-7h2v7zm4 0h-2V7h2v10zm4 0h-2v-4h2v4z\"/>\n",
              "    </g>\n",
              "</svg>\n",
              "  </button>\n",
              "\n",
              "<style>\n",
              "  .colab-df-quickchart {\n",
              "      --bg-color: #E8F0FE;\n",
              "      --fill-color: #1967D2;\n",
              "      --hover-bg-color: #E2EBFA;\n",
              "      --hover-fill-color: #174EA6;\n",
              "      --disabled-fill-color: #AAA;\n",
              "      --disabled-bg-color: #DDD;\n",
              "  }\n",
              "\n",
              "  [theme=dark] .colab-df-quickchart {\n",
              "      --bg-color: #3B4455;\n",
              "      --fill-color: #D2E3FC;\n",
              "      --hover-bg-color: #434B5C;\n",
              "      --hover-fill-color: #FFFFFF;\n",
              "      --disabled-bg-color: #3B4455;\n",
              "      --disabled-fill-color: #666;\n",
              "  }\n",
              "\n",
              "  .colab-df-quickchart {\n",
              "    background-color: var(--bg-color);\n",
              "    border: none;\n",
              "    border-radius: 50%;\n",
              "    cursor: pointer;\n",
              "    display: none;\n",
              "    fill: var(--fill-color);\n",
              "    height: 32px;\n",
              "    padding: 0;\n",
              "    width: 32px;\n",
              "  }\n",
              "\n",
              "  .colab-df-quickchart:hover {\n",
              "    background-color: var(--hover-bg-color);\n",
              "    box-shadow: 0 1px 2px rgba(60, 64, 67, 0.3), 0 1px 3px 1px rgba(60, 64, 67, 0.15);\n",
              "    fill: var(--button-hover-fill-color);\n",
              "  }\n",
              "\n",
              "  .colab-df-quickchart-complete:disabled,\n",
              "  .colab-df-quickchart-complete:disabled:hover {\n",
              "    background-color: var(--disabled-bg-color);\n",
              "    fill: var(--disabled-fill-color);\n",
              "    box-shadow: none;\n",
              "  }\n",
              "\n",
              "  .colab-df-spinner {\n",
              "    border: 2px solid var(--fill-color);\n",
              "    border-color: transparent;\n",
              "    border-bottom-color: var(--fill-color);\n",
              "    animation:\n",
              "      spin 1s steps(1) infinite;\n",
              "  }\n",
              "\n",
              "  @keyframes spin {\n",
              "    0% {\n",
              "      border-color: transparent;\n",
              "      border-bottom-color: var(--fill-color);\n",
              "      border-left-color: var(--fill-color);\n",
              "    }\n",
              "    20% {\n",
              "      border-color: transparent;\n",
              "      border-left-color: var(--fill-color);\n",
              "      border-top-color: var(--fill-color);\n",
              "    }\n",
              "    30% {\n",
              "      border-color: transparent;\n",
              "      border-left-color: var(--fill-color);\n",
              "      border-top-color: var(--fill-color);\n",
              "      border-right-color: var(--fill-color);\n",
              "    }\n",
              "    40% {\n",
              "      border-color: transparent;\n",
              "      border-right-color: var(--fill-color);\n",
              "      border-top-color: var(--fill-color);\n",
              "    }\n",
              "    60% {\n",
              "      border-color: transparent;\n",
              "      border-right-color: var(--fill-color);\n",
              "    }\n",
              "    80% {\n",
              "      border-color: transparent;\n",
              "      border-right-color: var(--fill-color);\n",
              "      border-bottom-color: var(--fill-color);\n",
              "    }\n",
              "    90% {\n",
              "      border-color: transparent;\n",
              "      border-bottom-color: var(--fill-color);\n",
              "    }\n",
              "  }\n",
              "</style>\n",
              "\n",
              "  <script>\n",
              "    async function quickchart(key) {\n",
              "      const quickchartButtonEl =\n",
              "        document.querySelector('#' + key + ' button');\n",
              "      quickchartButtonEl.disabled = true;  // To prevent multiple clicks.\n",
              "      quickchartButtonEl.classList.add('colab-df-spinner');\n",
              "      try {\n",
              "        const charts = await google.colab.kernel.invokeFunction(\n",
              "            'suggestCharts', [key], {});\n",
              "      } catch (error) {\n",
              "        console.error('Error during call to suggestCharts:', error);\n",
              "      }\n",
              "      quickchartButtonEl.classList.remove('colab-df-spinner');\n",
              "      quickchartButtonEl.classList.add('colab-df-quickchart-complete');\n",
              "    }\n",
              "    (() => {\n",
              "      let quickchartButtonEl =\n",
              "        document.querySelector('#df-25b219b9-7de1-486e-a0c3-5d191271942d button');\n",
              "      quickchartButtonEl.style.display =\n",
              "        google.colab.kernel.accessAllowed ? 'block' : 'none';\n",
              "    })();\n",
              "  </script>\n",
              "</div>\n",
              "    </div>\n",
              "  </div>\n"
            ]
          },
          "metadata": {},
          "execution_count": 22
        }
      ]
    },
    {
      "cell_type": "code",
      "source": [
        "df[\"date_added\"]=pd.to_datetime(df[\"date_added\"])\n",
        "df['added_year']=df['date_added'].dt.year\n",
        "df['added_year']"
      ],
      "metadata": {
        "colab": {
          "base_uri": "https://localhost:8080/"
        },
        "id": "ybvGJkVybenU",
        "outputId": "06f177b5-3727-4019-acd3-ba6b1310f049"
      },
      "execution_count": 23,
      "outputs": [
        {
          "output_type": "execute_result",
          "data": {
            "text/plain": [
              "0       2021\n",
              "1       2021\n",
              "2       2021\n",
              "3       2021\n",
              "4       2021\n",
              "        ... \n",
              "8785    2017\n",
              "8786    2018\n",
              "8787    2016\n",
              "8788    2018\n",
              "8789    2018\n",
              "Name: added_year, Length: 8790, dtype: int64"
            ]
          },
          "metadata": {},
          "execution_count": 23
        }
      ]
    },
    {
      "cell_type": "code",
      "source": [
        "top10addyear=df['added_year'].value_counts().head(10)\n",
        "top10addyear"
      ],
      "metadata": {
        "colab": {
          "base_uri": "https://localhost:8080/"
        },
        "id": "yysUaSARjJDZ",
        "outputId": "6f83d06b-f3ab-4a6b-e820-d556e82eb74e"
      },
      "execution_count": 24,
      "outputs": [
        {
          "output_type": "execute_result",
          "data": {
            "text/plain": [
              "2019    2016\n",
              "2020    1879\n",
              "2018    1648\n",
              "2021    1498\n",
              "2017    1185\n",
              "2016     426\n",
              "2015      82\n",
              "2014      24\n",
              "2011      13\n",
              "2013      11\n",
              "Name: added_year, dtype: int64"
            ]
          },
          "metadata": {},
          "execution_count": 24
        }
      ]
    },
    {
      "cell_type": "code",
      "source": [
        "df"
      ],
      "metadata": {
        "colab": {
          "base_uri": "https://localhost:8080/",
          "height": 424
        },
        "id": "iqLQ9AYKkOKA",
        "outputId": "6a52fe87-a4ae-443d-e2ab-fea00e32fd1e"
      },
      "execution_count": 25,
      "outputs": [
        {
          "output_type": "execute_result",
          "data": {
            "text/plain": [
              "         type                             title         director  \\\n",
              "0       Movie              Dick Johnson Is Dead  Kirsten Johnson   \n",
              "1     TV Show                         Ganglands  Julien Leclercq   \n",
              "2     TV Show                     Midnight Mass    Mike Flanagan   \n",
              "3       Movie  Confessions of an Invisible Girl    Bruno Garotti   \n",
              "4       Movie                           Sankofa     Haile Gerima   \n",
              "...       ...                               ...              ...   \n",
              "8785  TV Show                        Yunus Emre        Not Given   \n",
              "8786  TV Show                         Zak Storm        Not Given   \n",
              "8787  TV Show                Zindagi Gulzar Hai        Not Given   \n",
              "8788  TV Show                              Yoko        Not Given   \n",
              "8789  TV Show                               YOM        Not Given   \n",
              "\n",
              "            country date_added  release_year rating   duration  \\\n",
              "0     United States 2021-09-25          2020  PG-13     90 min   \n",
              "1            France 2021-09-24          2021  TV-MA   1 Season   \n",
              "2     United States 2021-09-24          2021  TV-MA   1 Season   \n",
              "3            Brazil 2021-09-22          2021  TV-PG     91 min   \n",
              "4     United States 2021-09-24          1993  TV-MA    125 min   \n",
              "...             ...        ...           ...    ...        ...   \n",
              "8785         Turkey 2017-01-17          2016  TV-PG  2 Seasons   \n",
              "8786  United States 2018-09-13          2016  TV-Y7  3 Seasons   \n",
              "8787       Pakistan 2016-12-15          2012  TV-PG   1 Season   \n",
              "8788       Pakistan 2018-06-23          2016   TV-Y   1 Season   \n",
              "8789       Pakistan 2018-06-07          2016  TV-Y7   1 Season   \n",
              "\n",
              "                                              listed_in  added_year  \n",
              "0                                         Documentaries        2021  \n",
              "1     Crime TV Shows, International TV Shows, TV Act...        2021  \n",
              "2                    TV Dramas, TV Horror, TV Mysteries        2021  \n",
              "3                    Children & Family Movies, Comedies        2021  \n",
              "4      Dramas, Independent Movies, International Movies        2021  \n",
              "...                                                 ...         ...  \n",
              "8785                  International TV Shows, TV Dramas        2017  \n",
              "8786                                           Kids' TV        2018  \n",
              "8787  International TV Shows, Romantic TV Shows, TV ...        2016  \n",
              "8788                                           Kids' TV        2018  \n",
              "8789                                           Kids' TV        2018  \n",
              "\n",
              "[8790 rows x 10 columns]"
            ],
            "text/html": [
              "\n",
              "  <div id=\"df-bd775240-6a2b-4a86-908f-2ad67c7cc35b\" class=\"colab-df-container\">\n",
              "    <div>\n",
              "<style scoped>\n",
              "    .dataframe tbody tr th:only-of-type {\n",
              "        vertical-align: middle;\n",
              "    }\n",
              "\n",
              "    .dataframe tbody tr th {\n",
              "        vertical-align: top;\n",
              "    }\n",
              "\n",
              "    .dataframe thead th {\n",
              "        text-align: right;\n",
              "    }\n",
              "</style>\n",
              "<table border=\"1\" class=\"dataframe\">\n",
              "  <thead>\n",
              "    <tr style=\"text-align: right;\">\n",
              "      <th></th>\n",
              "      <th>type</th>\n",
              "      <th>title</th>\n",
              "      <th>director</th>\n",
              "      <th>country</th>\n",
              "      <th>date_added</th>\n",
              "      <th>release_year</th>\n",
              "      <th>rating</th>\n",
              "      <th>duration</th>\n",
              "      <th>listed_in</th>\n",
              "      <th>added_year</th>\n",
              "    </tr>\n",
              "  </thead>\n",
              "  <tbody>\n",
              "    <tr>\n",
              "      <th>0</th>\n",
              "      <td>Movie</td>\n",
              "      <td>Dick Johnson Is Dead</td>\n",
              "      <td>Kirsten Johnson</td>\n",
              "      <td>United States</td>\n",
              "      <td>2021-09-25</td>\n",
              "      <td>2020</td>\n",
              "      <td>PG-13</td>\n",
              "      <td>90 min</td>\n",
              "      <td>Documentaries</td>\n",
              "      <td>2021</td>\n",
              "    </tr>\n",
              "    <tr>\n",
              "      <th>1</th>\n",
              "      <td>TV Show</td>\n",
              "      <td>Ganglands</td>\n",
              "      <td>Julien Leclercq</td>\n",
              "      <td>France</td>\n",
              "      <td>2021-09-24</td>\n",
              "      <td>2021</td>\n",
              "      <td>TV-MA</td>\n",
              "      <td>1 Season</td>\n",
              "      <td>Crime TV Shows, International TV Shows, TV Act...</td>\n",
              "      <td>2021</td>\n",
              "    </tr>\n",
              "    <tr>\n",
              "      <th>2</th>\n",
              "      <td>TV Show</td>\n",
              "      <td>Midnight Mass</td>\n",
              "      <td>Mike Flanagan</td>\n",
              "      <td>United States</td>\n",
              "      <td>2021-09-24</td>\n",
              "      <td>2021</td>\n",
              "      <td>TV-MA</td>\n",
              "      <td>1 Season</td>\n",
              "      <td>TV Dramas, TV Horror, TV Mysteries</td>\n",
              "      <td>2021</td>\n",
              "    </tr>\n",
              "    <tr>\n",
              "      <th>3</th>\n",
              "      <td>Movie</td>\n",
              "      <td>Confessions of an Invisible Girl</td>\n",
              "      <td>Bruno Garotti</td>\n",
              "      <td>Brazil</td>\n",
              "      <td>2021-09-22</td>\n",
              "      <td>2021</td>\n",
              "      <td>TV-PG</td>\n",
              "      <td>91 min</td>\n",
              "      <td>Children &amp; Family Movies, Comedies</td>\n",
              "      <td>2021</td>\n",
              "    </tr>\n",
              "    <tr>\n",
              "      <th>4</th>\n",
              "      <td>Movie</td>\n",
              "      <td>Sankofa</td>\n",
              "      <td>Haile Gerima</td>\n",
              "      <td>United States</td>\n",
              "      <td>2021-09-24</td>\n",
              "      <td>1993</td>\n",
              "      <td>TV-MA</td>\n",
              "      <td>125 min</td>\n",
              "      <td>Dramas, Independent Movies, International Movies</td>\n",
              "      <td>2021</td>\n",
              "    </tr>\n",
              "    <tr>\n",
              "      <th>...</th>\n",
              "      <td>...</td>\n",
              "      <td>...</td>\n",
              "      <td>...</td>\n",
              "      <td>...</td>\n",
              "      <td>...</td>\n",
              "      <td>...</td>\n",
              "      <td>...</td>\n",
              "      <td>...</td>\n",
              "      <td>...</td>\n",
              "      <td>...</td>\n",
              "    </tr>\n",
              "    <tr>\n",
              "      <th>8785</th>\n",
              "      <td>TV Show</td>\n",
              "      <td>Yunus Emre</td>\n",
              "      <td>Not Given</td>\n",
              "      <td>Turkey</td>\n",
              "      <td>2017-01-17</td>\n",
              "      <td>2016</td>\n",
              "      <td>TV-PG</td>\n",
              "      <td>2 Seasons</td>\n",
              "      <td>International TV Shows, TV Dramas</td>\n",
              "      <td>2017</td>\n",
              "    </tr>\n",
              "    <tr>\n",
              "      <th>8786</th>\n",
              "      <td>TV Show</td>\n",
              "      <td>Zak Storm</td>\n",
              "      <td>Not Given</td>\n",
              "      <td>United States</td>\n",
              "      <td>2018-09-13</td>\n",
              "      <td>2016</td>\n",
              "      <td>TV-Y7</td>\n",
              "      <td>3 Seasons</td>\n",
              "      <td>Kids' TV</td>\n",
              "      <td>2018</td>\n",
              "    </tr>\n",
              "    <tr>\n",
              "      <th>8787</th>\n",
              "      <td>TV Show</td>\n",
              "      <td>Zindagi Gulzar Hai</td>\n",
              "      <td>Not Given</td>\n",
              "      <td>Pakistan</td>\n",
              "      <td>2016-12-15</td>\n",
              "      <td>2012</td>\n",
              "      <td>TV-PG</td>\n",
              "      <td>1 Season</td>\n",
              "      <td>International TV Shows, Romantic TV Shows, TV ...</td>\n",
              "      <td>2016</td>\n",
              "    </tr>\n",
              "    <tr>\n",
              "      <th>8788</th>\n",
              "      <td>TV Show</td>\n",
              "      <td>Yoko</td>\n",
              "      <td>Not Given</td>\n",
              "      <td>Pakistan</td>\n",
              "      <td>2018-06-23</td>\n",
              "      <td>2016</td>\n",
              "      <td>TV-Y</td>\n",
              "      <td>1 Season</td>\n",
              "      <td>Kids' TV</td>\n",
              "      <td>2018</td>\n",
              "    </tr>\n",
              "    <tr>\n",
              "      <th>8789</th>\n",
              "      <td>TV Show</td>\n",
              "      <td>YOM</td>\n",
              "      <td>Not Given</td>\n",
              "      <td>Pakistan</td>\n",
              "      <td>2018-06-07</td>\n",
              "      <td>2016</td>\n",
              "      <td>TV-Y7</td>\n",
              "      <td>1 Season</td>\n",
              "      <td>Kids' TV</td>\n",
              "      <td>2018</td>\n",
              "    </tr>\n",
              "  </tbody>\n",
              "</table>\n",
              "<p>8790 rows × 10 columns</p>\n",
              "</div>\n",
              "    <div class=\"colab-df-buttons\">\n",
              "\n",
              "  <div class=\"colab-df-container\">\n",
              "    <button class=\"colab-df-convert\" onclick=\"convertToInteractive('df-bd775240-6a2b-4a86-908f-2ad67c7cc35b')\"\n",
              "            title=\"Convert this dataframe to an interactive table.\"\n",
              "            style=\"display:none;\">\n",
              "\n",
              "  <svg xmlns=\"http://www.w3.org/2000/svg\" height=\"24px\" viewBox=\"0 -960 960 960\">\n",
              "    <path d=\"M120-120v-720h720v720H120Zm60-500h600v-160H180v160Zm220 220h160v-160H400v160Zm0 220h160v-160H400v160ZM180-400h160v-160H180v160Zm440 0h160v-160H620v160ZM180-180h160v-160H180v160Zm440 0h160v-160H620v160Z\"/>\n",
              "  </svg>\n",
              "    </button>\n",
              "\n",
              "  <style>\n",
              "    .colab-df-container {\n",
              "      display:flex;\n",
              "      gap: 12px;\n",
              "    }\n",
              "\n",
              "    .colab-df-convert {\n",
              "      background-color: #E8F0FE;\n",
              "      border: none;\n",
              "      border-radius: 50%;\n",
              "      cursor: pointer;\n",
              "      display: none;\n",
              "      fill: #1967D2;\n",
              "      height: 32px;\n",
              "      padding: 0 0 0 0;\n",
              "      width: 32px;\n",
              "    }\n",
              "\n",
              "    .colab-df-convert:hover {\n",
              "      background-color: #E2EBFA;\n",
              "      box-shadow: 0px 1px 2px rgba(60, 64, 67, 0.3), 0px 1px 3px 1px rgba(60, 64, 67, 0.15);\n",
              "      fill: #174EA6;\n",
              "    }\n",
              "\n",
              "    .colab-df-buttons div {\n",
              "      margin-bottom: 4px;\n",
              "    }\n",
              "\n",
              "    [theme=dark] .colab-df-convert {\n",
              "      background-color: #3B4455;\n",
              "      fill: #D2E3FC;\n",
              "    }\n",
              "\n",
              "    [theme=dark] .colab-df-convert:hover {\n",
              "      background-color: #434B5C;\n",
              "      box-shadow: 0px 1px 3px 1px rgba(0, 0, 0, 0.15);\n",
              "      filter: drop-shadow(0px 1px 2px rgba(0, 0, 0, 0.3));\n",
              "      fill: #FFFFFF;\n",
              "    }\n",
              "  </style>\n",
              "\n",
              "    <script>\n",
              "      const buttonEl =\n",
              "        document.querySelector('#df-bd775240-6a2b-4a86-908f-2ad67c7cc35b button.colab-df-convert');\n",
              "      buttonEl.style.display =\n",
              "        google.colab.kernel.accessAllowed ? 'block' : 'none';\n",
              "\n",
              "      async function convertToInteractive(key) {\n",
              "        const element = document.querySelector('#df-bd775240-6a2b-4a86-908f-2ad67c7cc35b');\n",
              "        const dataTable =\n",
              "          await google.colab.kernel.invokeFunction('convertToInteractive',\n",
              "                                                    [key], {});\n",
              "        if (!dataTable) return;\n",
              "\n",
              "        const docLinkHtml = 'Like what you see? Visit the ' +\n",
              "          '<a target=\"_blank\" href=https://colab.research.google.com/notebooks/data_table.ipynb>data table notebook</a>'\n",
              "          + ' to learn more about interactive tables.';\n",
              "        element.innerHTML = '';\n",
              "        dataTable['output_type'] = 'display_data';\n",
              "        await google.colab.output.renderOutput(dataTable, element);\n",
              "        const docLink = document.createElement('div');\n",
              "        docLink.innerHTML = docLinkHtml;\n",
              "        element.appendChild(docLink);\n",
              "      }\n",
              "    </script>\n",
              "  </div>\n",
              "\n",
              "\n",
              "<div id=\"df-38edbb00-2715-4df3-88ae-e69158580b85\">\n",
              "  <button class=\"colab-df-quickchart\" onclick=\"quickchart('df-38edbb00-2715-4df3-88ae-e69158580b85')\"\n",
              "            title=\"Suggest charts\"\n",
              "            style=\"display:none;\">\n",
              "\n",
              "<svg xmlns=\"http://www.w3.org/2000/svg\" height=\"24px\"viewBox=\"0 0 24 24\"\n",
              "     width=\"24px\">\n",
              "    <g>\n",
              "        <path d=\"M19 3H5c-1.1 0-2 .9-2 2v14c0 1.1.9 2 2 2h14c1.1 0 2-.9 2-2V5c0-1.1-.9-2-2-2zM9 17H7v-7h2v7zm4 0h-2V7h2v10zm4 0h-2v-4h2v4z\"/>\n",
              "    </g>\n",
              "</svg>\n",
              "  </button>\n",
              "\n",
              "<style>\n",
              "  .colab-df-quickchart {\n",
              "      --bg-color: #E8F0FE;\n",
              "      --fill-color: #1967D2;\n",
              "      --hover-bg-color: #E2EBFA;\n",
              "      --hover-fill-color: #174EA6;\n",
              "      --disabled-fill-color: #AAA;\n",
              "      --disabled-bg-color: #DDD;\n",
              "  }\n",
              "\n",
              "  [theme=dark] .colab-df-quickchart {\n",
              "      --bg-color: #3B4455;\n",
              "      --fill-color: #D2E3FC;\n",
              "      --hover-bg-color: #434B5C;\n",
              "      --hover-fill-color: #FFFFFF;\n",
              "      --disabled-bg-color: #3B4455;\n",
              "      --disabled-fill-color: #666;\n",
              "  }\n",
              "\n",
              "  .colab-df-quickchart {\n",
              "    background-color: var(--bg-color);\n",
              "    border: none;\n",
              "    border-radius: 50%;\n",
              "    cursor: pointer;\n",
              "    display: none;\n",
              "    fill: var(--fill-color);\n",
              "    height: 32px;\n",
              "    padding: 0;\n",
              "    width: 32px;\n",
              "  }\n",
              "\n",
              "  .colab-df-quickchart:hover {\n",
              "    background-color: var(--hover-bg-color);\n",
              "    box-shadow: 0 1px 2px rgba(60, 64, 67, 0.3), 0 1px 3px 1px rgba(60, 64, 67, 0.15);\n",
              "    fill: var(--button-hover-fill-color);\n",
              "  }\n",
              "\n",
              "  .colab-df-quickchart-complete:disabled,\n",
              "  .colab-df-quickchart-complete:disabled:hover {\n",
              "    background-color: var(--disabled-bg-color);\n",
              "    fill: var(--disabled-fill-color);\n",
              "    box-shadow: none;\n",
              "  }\n",
              "\n",
              "  .colab-df-spinner {\n",
              "    border: 2px solid var(--fill-color);\n",
              "    border-color: transparent;\n",
              "    border-bottom-color: var(--fill-color);\n",
              "    animation:\n",
              "      spin 1s steps(1) infinite;\n",
              "  }\n",
              "\n",
              "  @keyframes spin {\n",
              "    0% {\n",
              "      border-color: transparent;\n",
              "      border-bottom-color: var(--fill-color);\n",
              "      border-left-color: var(--fill-color);\n",
              "    }\n",
              "    20% {\n",
              "      border-color: transparent;\n",
              "      border-left-color: var(--fill-color);\n",
              "      border-top-color: var(--fill-color);\n",
              "    }\n",
              "    30% {\n",
              "      border-color: transparent;\n",
              "      border-left-color: var(--fill-color);\n",
              "      border-top-color: var(--fill-color);\n",
              "      border-right-color: var(--fill-color);\n",
              "    }\n",
              "    40% {\n",
              "      border-color: transparent;\n",
              "      border-right-color: var(--fill-color);\n",
              "      border-top-color: var(--fill-color);\n",
              "    }\n",
              "    60% {\n",
              "      border-color: transparent;\n",
              "      border-right-color: var(--fill-color);\n",
              "    }\n",
              "    80% {\n",
              "      border-color: transparent;\n",
              "      border-right-color: var(--fill-color);\n",
              "      border-bottom-color: var(--fill-color);\n",
              "    }\n",
              "    90% {\n",
              "      border-color: transparent;\n",
              "      border-bottom-color: var(--fill-color);\n",
              "    }\n",
              "  }\n",
              "</style>\n",
              "\n",
              "  <script>\n",
              "    async function quickchart(key) {\n",
              "      const quickchartButtonEl =\n",
              "        document.querySelector('#' + key + ' button');\n",
              "      quickchartButtonEl.disabled = true;  // To prevent multiple clicks.\n",
              "      quickchartButtonEl.classList.add('colab-df-spinner');\n",
              "      try {\n",
              "        const charts = await google.colab.kernel.invokeFunction(\n",
              "            'suggestCharts', [key], {});\n",
              "      } catch (error) {\n",
              "        console.error('Error during call to suggestCharts:', error);\n",
              "      }\n",
              "      quickchartButtonEl.classList.remove('colab-df-spinner');\n",
              "      quickchartButtonEl.classList.add('colab-df-quickchart-complete');\n",
              "    }\n",
              "    (() => {\n",
              "      let quickchartButtonEl =\n",
              "        document.querySelector('#df-38edbb00-2715-4df3-88ae-e69158580b85 button');\n",
              "      quickchartButtonEl.style.display =\n",
              "        google.colab.kernel.accessAllowed ? 'block' : 'none';\n",
              "    })();\n",
              "  </script>\n",
              "</div>\n",
              "    </div>\n",
              "  </div>\n"
            ]
          },
          "metadata": {},
          "execution_count": 25
        }
      ]
    },
    {
      "cell_type": "markdown",
      "source": [
        "# **Data Visualization**"
      ],
      "metadata": {
        "id": "5-j5FMeZknUe"
      }
    },
    {
      "cell_type": "code",
      "source": [
        "df['type'].value_counts().plot(kind='pie',autopct=\"%.2f%%\")\n",
        "plt.show()"
      ],
      "metadata": {
        "colab": {
          "base_uri": "https://localhost:8080/",
          "height": 406
        },
        "id": "4Kl9uYpalf96",
        "outputId": "8d073642-9932-4740-9654-84c0adca6958"
      },
      "execution_count": 26,
      "outputs": [
        {
          "output_type": "display_data",
          "data": {
            "text/plain": [
              "<Figure size 640x480 with 1 Axes>"
            ],
            "image/png": "[encoded data removed]"
          },
          "metadata": {}
        }
      ]
    },
    {
      "cell_type": "markdown",
      "source": [
        "Majority of the types are movies."
      ],
      "metadata": {
        "id": "eENzaX1CmItt"
      }
    },
    {
      "cell_type": "code",
      "source": [
        "top10country.plot(kind='bar', stacked=True,color=sns.color_palette(\"mako\"))"
      ],
      "metadata": {
        "colab": {
          "base_uri": "https://localhost:8080/",
          "height": 544
        },
        "id": "I7bAbw86mNe_",
        "outputId": "36ce3862-a725-4632-a7db-0bd3f2e8b9d6"
      },
      "execution_count": 27,
      "outputs": [
        {
          "output_type": "execute_result",
          "data": {
            "text/plain": [
              "<Axes: >"
            ]
          },
          "metadata": {},
          "execution_count": 27
        },
        {
          "output_type": "display_data",
          "data": {
            "text/plain": [
              "<Figure size 640x480 with 1 Axes>"
            ],
            "image/png": "[encoded data removed]"
          },
          "metadata": {}
        }
      ]
    },
    {
      "cell_type": "markdown",
      "source": [
        "USA has produced most movies and TV shows."
      ],
      "metadata": {
        "id": "HX_1DMcNpCA4"
      }
    },
    {
      "cell_type": "code",
      "source": [
        "top10genre.plot(kind='bar', stacked=True,color=sns.color_palette(\"Accent\"))"
      ],
      "metadata": {
        "colab": {
          "base_uri": "https://localhost:8080/",
          "height": 787
        },
        "id": "hrMSCcHo0i3L",
        "outputId": "f617a1b9-b7eb-4c39-9b80-faa6385a8e4d"
      },
      "execution_count": 28,
      "outputs": [
        {
          "output_type": "execute_result",
          "data": {
            "text/plain": [
              "<Axes: >"
            ]
          },
          "metadata": {},
          "execution_count": 28
        },
        {
          "output_type": "display_data",
          "data": {
            "text/plain": [
              "<Figure size 640x480 with 1 Axes>"
            ],
            "image/png": "[encoded data removed]"
          },
          "metadata": {}
        }
      ]
    },
    {
      "cell_type": "markdown",
      "source": [
        "Dramas,internataional movies are the most popular genre."
      ],
      "metadata": {
        "id": "YJrCR8U61Hmi"
      }
    },
    {
      "cell_type": "code",
      "source": [
        "top10duration.plot(kind='bar', stacked=True,color=sns.color_palette(\"cubehelix\"))"
      ],
      "metadata": {
        "colab": {
          "base_uri": "https://localhost:8080/",
          "height": 503
        },
        "id": "EldZDfwv03Z7",
        "outputId": "5cf7145c-8c4c-4ecc-9503-7f2ecab78500"
      },
      "execution_count": 29,
      "outputs": [
        {
          "output_type": "execute_result",
          "data": {
            "text/plain": [
              "<Axes: >"
            ]
          },
          "metadata": {},
          "execution_count": 29
        },
        {
          "output_type": "display_data",
          "data": {
            "text/plain": [
              "<Figure size 640x480 with 1 Axes>"
            ],
            "image/png": "[encoded data removed]"
          },
          "metadata": {}
        }
      ]
    },
    {
      "cell_type": "markdown",
      "source": [
        "Most movies or TV shows have 1 season"
      ],
      "metadata": {
        "id": "YwuD3X8R1JM7"
      }
    },
    {
      "cell_type": "code",
      "source": [
        "plt.figure(figsize=(10,6))\n",
        "plt.xticks(rotation=45, ha=\"right\")\n",
        "sns.countplot(x='rating',data=df)\n",
        "plt.show()"
      ],
      "metadata": {
        "colab": {
          "base_uri": "https://localhost:8080/",
          "height": 580
        },
        "id": "sy0_wJxJ-MuG",
        "outputId": "42c7ebe4-f0cf-4acb-f6a6-bebacd7ec224"
      },
      "execution_count": 30,
      "outputs": [
        {
          "output_type": "display_data",
          "data": {
            "text/plain": [
              "<Figure size 1000x600 with 1 Axes>"
            ],
            "image/png": "[encoded data removed]"
          },
          "metadata": {}
        }
      ]
    },
    {
      "cell_type": "markdown",
      "source": [
        "Most of the movies or TV shows were TV-MA rated."
      ],
      "metadata": {
        "id": "yPz2dYvLBMlv"
      }
    },
    {
      "cell_type": "code",
      "source": [
        "plt.figure(figsize = (10,5))\n",
        "sns.lineplot(x=df['release_year'].value_counts().index,y=df['release_year'].value_counts())"
      ],
      "metadata": {
        "colab": {
          "base_uri": "https://localhost:8080/",
          "height": 467
        },
        "id": "3DRxU1f3pDB4",
        "outputId": "b4b64776-fcaa-43e2-d310-db4e35fa8e90"
      },
      "execution_count": 31,
      "outputs": [
        {
          "output_type": "execute_result",
          "data": {
            "text/plain": [
              "<Axes: ylabel='release_year'>"
            ]
          },
          "metadata": {},
          "execution_count": 31
        },
        {
          "output_type": "display_data",
          "data": {
            "text/plain": [
              "<Figure size 1000x500 with 1 Axes>"
            ],
            "image/png": "[encoded data removed]"
          },
          "metadata": {}
        }
      ]
    },
    {
      "cell_type": "markdown",
      "source": [
        "Most of the TV shows or movies were produced after 2010"
      ],
      "metadata": {
        "id": "x7O66ASKBSXG"
      }
    },
    {
      "cell_type": "code",
      "source": [
        "df['release_year'].value_counts()"
      ],
      "metadata": {
        "colab": {
          "base_uri": "https://localhost:8080/"
        },
        "id": "uwVJD4Pb86ak",
        "outputId": "586f9bee-0882-4163-9fb4-948a8606833c"
      },
      "execution_count": 32,
      "outputs": [
        {
          "output_type": "execute_result",
          "data": {
            "text/plain": [
              "2018    1146\n",
              "2017    1030\n",
              "2019    1030\n",
              "2020     953\n",
              "2016     901\n",
              "        ... \n",
              "1966       1\n",
              "1959       1\n",
              "1925       1\n",
              "1947       1\n",
              "1961       1\n",
              "Name: release_year, Length: 74, dtype: int64"
            ]
          },
          "metadata": {},
          "execution_count": 32
        }
      ]
    },
    {
      "cell_type": "code",
      "source": [
        "plt.figure(figsize=(17,7))\n",
        "plt.xticks(rotation=90, ha=\"right\")\n",
        "sns.countplot(x=\"country\", data=df, hue=\"type\")\n",
        "plt.show()"
      ],
      "metadata": {
        "colab": {
          "base_uri": "https://localhost:8080/",
          "height": 756
        },
        "id": "zQ2-Asn8On7I",
        "outputId": "4e8538fb-0643-4751-ecc3-926f4ef0bd0e"
      },
      "execution_count": 35,
      "outputs": [
        {
          "output_type": "display_data",
          "data": {
            "text/plain": [
              "<Figure size 1700x700 with 1 Axes>"
            ],
            "image/png": "[encoded data removed]"
          },
          "metadata": {}
        }
      ]
    },
    {
      "cell_type": "markdown",
      "source": [
        "USA has both higher movies and TV shows count."
      ],
      "metadata": {
        "id": "ewFr4kpSPH3O"
      }
    },
    {
      "cell_type": "code",
      "source": [
        "plt.figure(figsize=(17,7))\n",
        "plt.xticks(rotation=90, ha=\"right\")\n",
        "sns.countplot(x=\"release_year\", data=df, hue=\"type\")\n",
        "plt.show()"
      ],
      "metadata": {
        "colab": {
          "base_uri": "https://localhost:8080/",
          "height": 642
        },
        "id": "vrpfFZ04PS_k",
        "outputId": "94f2ddce-b0fc-4fe7-af92-6e9d33062437"
      },
      "execution_count": 36,
      "outputs": [
        {
          "output_type": "display_data",
          "data": {
            "text/plain": [
              "<Figure size 1700x700 with 1 Axes>"
            ],
            "image/png": "[encoded data removed]"
          },
          "metadata": {}
        }
      ]
    },
    {
      "cell_type": "markdown",
      "source": [
        "in 2018, most number of movies were produced throughout all years. In 2020, highest number of TV shows were produced."
      ],
      "metadata": {
        "id": "w7J-dJOuPfJJ"
      }
    },
    {
      "cell_type": "code",
      "source": [
        "plt.figure(figsize=(17,7))\n",
        "plt.xticks(rotation=90, ha=\"right\")\n",
        "sns.countplot(x=\"rating\", data=df, hue=\"type\")\n",
        "plt.show()"
      ],
      "metadata": {
        "colab": {
          "base_uri": "https://localhost:8080/",
          "height": 665
        },
        "id": "re1ivu5gP5I7",
        "outputId": "93432809-e16b-44ea-9511-c4afcabebf95"
      },
      "execution_count": 37,
      "outputs": [
        {
          "output_type": "display_data",
          "data": {
            "text/plain": [
              "<Figure size 1700x700 with 1 Axes>"
            ],
            "image/png": "[encoded data removed]"
          },
          "metadata": {}
        }
      ]
    },
    {
      "cell_type": "markdown",
      "source": [
        "Majority of the TV shows and movies were TV-MA rated."
      ],
      "metadata": {
        "id": "E2szAb1BQBGS"
      }
    },
    {
      "cell_type": "code",
      "source": [],
      "metadata": {
        "id": "Cx07biU0QIaz"
      },
      "execution_count": null,
      "outputs": []
    }
  ]
}